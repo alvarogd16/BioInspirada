{
 "cells": [
  {
   "cell_type": "markdown",
   "metadata": {},
   "source": [
    "ANN Clasificatoria con dataset dataset_186_satimage"
   ]
  },
  {
   "cell_type": "code",
   "execution_count": 19,
   "metadata": {},
   "outputs": [],
   "source": [
    "# Funciones para el procesamiento de los datos\n",
    "\n",
    "import numpy as np\n",
    "import matplotlib.pyplot as plt\n",
    "import pandas as pd\n",
    "\n",
    "from sklearn.model_selection import train_test_split\n",
    "from sklearn import preprocessing\n",
    "Min_Max = preprocessing.MinMaxScaler()\n",
    "Ordinal =preprocessing.OrdinalEncoder()\n",
    "\n",
    "\n",
    "def one_hot_cols(df,cols_to_one):\n",
    "    one_hot=pd.get_dummies(df,cols_to_one,columns=cols_to_one)\n",
    "    return one_hot\n",
    "\n",
    "\n",
    "def fit_cols(df, cols_to_fit,fit_function ):\n",
    "    for col in cols_to_fit:\n",
    "        df[col] = pd.DataFrame(fit_function.fit_transform(pd.DataFrame(df[col])),columns=[col])\n",
    "    return df\n",
    "\n",
    "\n",
    "def split_Dataset(mypandas, cols_for_Y,size=0.2,state=1):\n",
    "    \n",
    "    X =  mypandas.drop(cols_for_Y, axis=1)\n",
    "    Y = mypandas[cols_for_Y]\n",
    "    X.head()\n",
    "    X_train, X_test, Y_train, Y_test = train_test_split(X, Y, test_size=size, random_state=state)\n",
    "    return X_train.to_numpy(), X_test.to_numpy(), Y_train.to_numpy(), Y_test.to_numpy()"
   ]
  },
  {
   "cell_type": "code",
   "execution_count": 20,
   "metadata": {},
   "outputs": [],
   "source": [
    "data_origin = pd.read_csv(r'../3_Normalización/datasets/dataset_186_satimage.csv')\n",
    "dataset = fit_cols(data_origin, data_origin.columns, Min_Max)\n",
    "dataset = one_hot_cols(dataset, ['class'])\n",
    "# dataset.head(20)\n",
    "# dataset.describe()"
   ]
  },
  {
   "cell_type": "code",
   "execution_count": 21,
   "metadata": {},
   "outputs": [
    {
     "name": "stdout",
     "output_type": "stream",
     "text": [
      "(5144, 36) (5144, 6)\n",
      "(1286, 36) (1286, 6)\n"
     ]
    }
   ],
   "source": [
    "X_train, X_test, Y_train, Y_test = split_Dataset(dataset, list(dataset.columns)[-6:])\n",
    "print(np.shape(X_train),np.shape(Y_train))\n",
    "print(np.shape(X_test),np.shape(Y_test))"
   ]
  },
  {
   "cell_type": "code",
   "execution_count": 22,
   "metadata": {},
   "outputs": [],
   "source": [
    "from tensorflow.keras.datasets import mnist\n",
    "from tensorflow.python.keras.utils import np_utils\n",
    "from tensorflow.keras import Sequential\n",
    "from tensorflow.keras import optimizers\n",
    "from tensorflow.keras.layers import Input, Dense, Dropout, Activation, Flatten\n",
    "from tensorflow.keras.optimizers import Adam, RMSprop\n",
    "\n",
    "\n",
    "\n",
    "def Show_History(History):\n",
    "    # summarize history for accuracy\n",
    "    plt.plot(History.history['accuracy'])\n",
    "    plt.plot(History.history['val_accuracy'])\n",
    "    plt.title('model accuracy')\n",
    "    plt.ylabel('accuracy')\n",
    "    plt.xlabel('epoch')\n",
    "    plt.legend(['train', 'test'], loc='upper left')\n",
    "    plt.show()\n",
    "    # summarize history for loss\n",
    "    plt.plot(History.history['loss'])\n",
    "    plt.plot(History.history['val_loss'])\n",
    "    plt.title('model loss')\n",
    "    plt.ylabel('loss')\n",
    "    plt.xlabel('epoch')\n",
    "    plt.legend(['train', 'test'], loc='upper left')\n",
    "    plt.show()\n",
    "\n",
    "np.random.seed(7)\n",
    "\n",
    "\n",
    "\n",
    "Adam=optimizers.Adam(lr=0.05)\n",
    "Sgd=optimizers.SGD(lr=0.01)"
   ]
  },
  {
   "cell_type": "code",
   "execution_count": 27,
   "metadata": {},
   "outputs": [],
   "source": [
    "def Model1():\n",
    "    model = Sequential()\n",
    "    model.add(Dense(20,input_dim=36,activation='relu'))\n",
    "    model.add(Dense(15,activation='relu'))\n",
    "    \n",
    "    \n",
    "    model.add(Dense(6,activation='softmax'))\n",
    "    model.compile(loss='categorical_crossentropy',\n",
    "                  optimizer='adam',\n",
    "                  metrics=['accuracy'])\n",
    "    return model\n",
    "\n",
    "\n",
    "\n",
    "M=Model1()"
   ]
  },
  {
   "cell_type": "code",
   "execution_count": 28,
   "metadata": {},
   "outputs": [
    {
     "name": "stdout",
     "output_type": "stream",
     "text": [
      "Epoch 1/30\n",
      "1029/1029 [==============================] - 3s 3ms/step - loss: 0.9852 - accuracy: 0.6398 - val_loss: 0.6756 - val_accuracy: 0.7815\n",
      "Epoch 2/30\n",
      "1029/1029 [==============================] - 3s 3ms/step - loss: 0.5762 - accuracy: 0.8029 - val_loss: 0.4834 - val_accuracy: 0.8297\n",
      "Epoch 3/30\n",
      "1029/1029 [==============================] - 2s 2ms/step - loss: 0.4785 - accuracy: 0.8167 - val_loss: 0.4604 - val_accuracy: 0.8165\n",
      "Epoch 4/30\n",
      "1029/1029 [==============================] - 2s 2ms/step - loss: 0.4368 - accuracy: 0.8239 - val_loss: 0.3974 - val_accuracy: 0.8453\n",
      "Epoch 5/30\n",
      "1029/1029 [==============================] - 2s 2ms/step - loss: 0.4130 - accuracy: 0.8348 - val_loss: 0.3754 - val_accuracy: 0.8484\n",
      "Epoch 6/30\n",
      "1029/1029 [==============================] - 2s 2ms/step - loss: 0.3977 - accuracy: 0.8453 - val_loss: 0.3860 - val_accuracy: 0.8523\n",
      "Epoch 7/30\n",
      "1029/1029 [==============================] - 2s 2ms/step - loss: 0.3839 - accuracy: 0.8460 - val_loss: 0.3983 - val_accuracy: 0.8359\n",
      "Epoch 8/30\n",
      "1029/1029 [==============================] - 2s 2ms/step - loss: 0.3786 - accuracy: 0.8490 - val_loss: 0.3789 - val_accuracy: 0.8406\n",
      "Epoch 9/30\n",
      "1029/1029 [==============================] - 2s 2ms/step - loss: 0.3669 - accuracy: 0.8577 - val_loss: 0.3435 - val_accuracy: 0.8600\n",
      "Epoch 10/30\n",
      "1029/1029 [==============================] - 2s 2ms/step - loss: 0.3638 - accuracy: 0.8583 - val_loss: 0.3421 - val_accuracy: 0.8678\n",
      "Epoch 11/30\n",
      "1029/1029 [==============================] - 2s 2ms/step - loss: 0.3562 - accuracy: 0.8608 - val_loss: 0.3373 - val_accuracy: 0.8725\n",
      "Epoch 12/30\n",
      "1029/1029 [==============================] - 2s 2ms/step - loss: 0.3476 - accuracy: 0.8637 - val_loss: 0.3234 - val_accuracy: 0.8678\n",
      "Epoch 13/30\n",
      "1029/1029 [==============================] - 2s 2ms/step - loss: 0.3406 - accuracy: 0.8699 - val_loss: 0.3430 - val_accuracy: 0.8647\n",
      "Epoch 14/30\n",
      "1029/1029 [==============================] - 2s 2ms/step - loss: 0.3417 - accuracy: 0.8676 - val_loss: 0.3094 - val_accuracy: 0.8748\n",
      "Epoch 15/30\n",
      "1029/1029 [==============================] - 2s 2ms/step - loss: 0.3401 - accuracy: 0.8707 - val_loss: 0.3295 - val_accuracy: 0.8740\n",
      "Epoch 16/30\n",
      "1029/1029 [==============================] - 2s 2ms/step - loss: 0.3323 - accuracy: 0.8748 - val_loss: 0.3211 - val_accuracy: 0.8631\n",
      "Epoch 17/30\n",
      "1029/1029 [==============================] - 2s 2ms/step - loss: 0.3304 - accuracy: 0.8707 - val_loss: 0.3215 - val_accuracy: 0.8647\n",
      "Epoch 18/30\n",
      "1029/1029 [==============================] - 2s 2ms/step - loss: 0.3287 - accuracy: 0.8748 - val_loss: 0.3014 - val_accuracy: 0.8686\n",
      "Epoch 19/30\n",
      "1029/1029 [==============================] - 2s 2ms/step - loss: 0.3268 - accuracy: 0.8699 - val_loss: 0.3039 - val_accuracy: 0.8764\n",
      "Epoch 20/30\n",
      "1029/1029 [==============================] - 2s 2ms/step - loss: 0.3216 - accuracy: 0.8783 - val_loss: 0.3029 - val_accuracy: 0.8764\n",
      "Epoch 21/30\n",
      "1029/1029 [==============================] - 3s 3ms/step - loss: 0.3170 - accuracy: 0.8793 - val_loss: 0.3026 - val_accuracy: 0.8795\n",
      "Epoch 22/30\n",
      "1029/1029 [==============================] - 2s 2ms/step - loss: 0.3149 - accuracy: 0.8791 - val_loss: 0.3032 - val_accuracy: 0.8818\n",
      "Epoch 23/30\n",
      "1029/1029 [==============================] - 2s 2ms/step - loss: 0.3111 - accuracy: 0.8818 - val_loss: 0.2881 - val_accuracy: 0.8849\n",
      "Epoch 24/30\n",
      "1029/1029 [==============================] - 2s 2ms/step - loss: 0.3081 - accuracy: 0.8812 - val_loss: 0.3107 - val_accuracy: 0.8771\n",
      "Epoch 25/30\n",
      "1029/1029 [==============================] - 2s 2ms/step - loss: 0.3054 - accuracy: 0.8834 - val_loss: 0.2878 - val_accuracy: 0.8935\n",
      "Epoch 26/30\n",
      "1029/1029 [==============================] - 2s 2ms/step - loss: 0.3031 - accuracy: 0.8869 - val_loss: 0.3100 - val_accuracy: 0.8779\n",
      "Epoch 27/30\n",
      "1029/1029 [==============================] - 2s 2ms/step - loss: 0.3056 - accuracy: 0.8847 - val_loss: 0.2858 - val_accuracy: 0.9012\n",
      "Epoch 28/30\n",
      "1029/1029 [==============================] - 2s 2ms/step - loss: 0.3000 - accuracy: 0.8849 - val_loss: 0.3146 - val_accuracy: 0.8733\n",
      "Epoch 29/30\n",
      "1029/1029 [==============================] - 2s 2ms/step - loss: 0.2991 - accuracy: 0.8859 - val_loss: 0.3147 - val_accuracy: 0.8740\n",
      "Epoch 30/30\n",
      "1029/1029 [==============================] - 2s 2ms/step - loss: 0.2998 - accuracy: 0.8837 - val_loss: 0.2840 - val_accuracy: 0.8927\n"
     ]
    },
    {
     "data": {
      "image/png": "[encoded data removed]",
      "text/plain": [
       "<Figure size 432x288 with 1 Axes>"
      ]
     },
     "metadata": {
      "needs_background": "light"
     },
     "output_type": "display_data"
    },
    {
     "data": {
      "image/png": "[encoded data removed]",
      "text/plain": [
       "<Figure size 432x288 with 1 Axes>"
      ]
     },
     "metadata": {
      "needs_background": "light"
     },
     "output_type": "display_data"
    }
   ],
   "source": [
    "History=M.fit(X_train,Y_train,\n",
    "              epochs=30,\n",
    "              batch_size=5,\n",
    "              validation_data=(X_test,Y_test))\n",
    "\n",
    "Show_History(History)"
   ]
  },
  {
   "cell_type": "code",
   "execution_count": null,
   "metadata": {},
   "outputs": [],
   "source": []
  }
 ],
 "metadata": {
  "kernelspec": {
   "display_name": "Python 3",
   "language": "python",
   "name": "python3"
  },
  "language_info": {
   "codemirror_mode": {
    "name": "ipython",
    "version": 3
   },
   "file_extension": ".py",
   "mimetype": "text/x-python",
   "name": "python",
   "nbconvert_exporter": "python",
   "pygments_lexer": "ipython3",
   "version": "3.8.6"
  }
 },
 "nbformat": 4,
 "nbformat_minor": 4
}
