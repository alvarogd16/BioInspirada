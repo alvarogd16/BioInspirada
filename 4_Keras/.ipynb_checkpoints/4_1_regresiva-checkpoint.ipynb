{
 "cells": [
  {
   "cell_type": "markdown",
   "metadata": {},
   "source": [
    "ANN Regresiva con dataset dataset_186_satimage"
   ]
  },
  {
   "cell_type": "code",
   "execution_count": 1,
   "metadata": {},
   "outputs": [],
   "source": [
    "# Funciones para el procesamiento de los datos\n",
    "\n",
    "import numpy as np\n",
    "import matplotlib.pyplot as plt\n",
    "import pandas as pd\n",
    "\n",
    "from sklearn.model_selection import train_test_split\n",
    "from sklearn import preprocessing\n",
    "Min_Max = preprocessing.MinMaxScaler()\n",
    "Ordinal =preprocessing.OrdinalEncoder()\n",
    "\n",
    "\n",
    "def one_hot_cols(df,cols_to_one):\n",
    "    one_hot=pd.get_dummies(df,cols_to_one,columns=cols_to_one)\n",
    "    return one_hot\n",
    "\n",
    "\n",
    "def fit_cols(df, cols_to_fit,fit_function ):\n",
    "    for col in cols_to_fit:\n",
    "        df[col] = pd.DataFrame(fit_function.fit_transform(pd.DataFrame(df[col])),columns=[col])\n",
    "    return df\n",
    "\n",
    "\n",
    "def split_Dataset(mypandas, cols_for_Y,size=0.2,state=1):\n",
    "    \n",
    "    X =  mypandas.drop(cols_for_Y, axis=1)\n",
    "    Y = mypandas[cols_for_Y]\n",
    "    X.head()\n",
    "    X_train, X_test, Y_train, Y_test = train_test_split(X, Y, test_size=size, random_state=state)\n",
    "    return X_train.to_numpy(), X_test.to_numpy(), Y_train.to_numpy(), Y_test.to_numpy()"
   ]
  },
  {
   "cell_type": "code",
   "execution_count": 2,
   "metadata": {},
   "outputs": [
    {
     "data": {
      "text/html": [
       "<div>\n",
       "<style scoped>\n",
       "    .dataframe tbody tr th:only-of-type {\n",
       "        vertical-align: middle;\n",
       "    }\n",
       "\n",
       "    .dataframe tbody tr th {\n",
       "        vertical-align: top;\n",
       "    }\n",
       "\n",
       "    .dataframe thead th {\n",
       "        text-align: right;\n",
       "    }\n",
       "</style>\n",
       "<table border=\"1\" class=\"dataframe\">\n",
       "  <thead>\n",
       "    <tr style=\"text-align: right;\">\n",
       "      <th></th>\n",
       "      <th>0</th>\n",
       "      <th>1</th>\n",
       "      <th>2</th>\n",
       "      <th>3</th>\n",
       "      <th>4</th>\n",
       "      <th>5</th>\n",
       "      <th>6</th>\n",
       "      <th>7</th>\n",
       "      <th>8</th>\n",
       "    </tr>\n",
       "  </thead>\n",
       "  <tbody>\n",
       "    <tr>\n",
       "      <th>count</th>\n",
       "      <td>4177.000000</td>\n",
       "      <td>4177.000000</td>\n",
       "      <td>4177.000000</td>\n",
       "      <td>4177.000000</td>\n",
       "      <td>4177.000000</td>\n",
       "      <td>4177.000000</td>\n",
       "      <td>4177.000000</td>\n",
       "      <td>4177.000000</td>\n",
       "      <td>4177.000000</td>\n",
       "    </tr>\n",
       "    <tr>\n",
       "      <th>mean</th>\n",
       "      <td>0.526454</td>\n",
       "      <td>0.606746</td>\n",
       "      <td>0.593078</td>\n",
       "      <td>0.123466</td>\n",
       "      <td>0.292808</td>\n",
       "      <td>0.241000</td>\n",
       "      <td>0.237121</td>\n",
       "      <td>0.236503</td>\n",
       "      <td>0.319060</td>\n",
       "    </tr>\n",
       "    <tr>\n",
       "      <th>std</th>\n",
       "      <td>0.411120</td>\n",
       "      <td>0.162288</td>\n",
       "      <td>0.166790</td>\n",
       "      <td>0.037015</td>\n",
       "      <td>0.173681</td>\n",
       "      <td>0.149269</td>\n",
       "      <td>0.144324</td>\n",
       "      <td>0.138717</td>\n",
       "      <td>0.115149</td>\n",
       "    </tr>\n",
       "    <tr>\n",
       "      <th>min</th>\n",
       "      <td>0.000000</td>\n",
       "      <td>0.000000</td>\n",
       "      <td>0.000000</td>\n",
       "      <td>0.000000</td>\n",
       "      <td>0.000000</td>\n",
       "      <td>0.000000</td>\n",
       "      <td>0.000000</td>\n",
       "      <td>0.000000</td>\n",
       "      <td>0.000000</td>\n",
       "    </tr>\n",
       "    <tr>\n",
       "      <th>25%</th>\n",
       "      <td>0.000000</td>\n",
       "      <td>0.506757</td>\n",
       "      <td>0.495798</td>\n",
       "      <td>0.101770</td>\n",
       "      <td>0.155658</td>\n",
       "      <td>0.124412</td>\n",
       "      <td>0.122449</td>\n",
       "      <td>0.128052</td>\n",
       "      <td>0.250000</td>\n",
       "    </tr>\n",
       "    <tr>\n",
       "      <th>50%</th>\n",
       "      <td>0.500000</td>\n",
       "      <td>0.635135</td>\n",
       "      <td>0.621849</td>\n",
       "      <td>0.123894</td>\n",
       "      <td>0.282451</td>\n",
       "      <td>0.225286</td>\n",
       "      <td>0.224490</td>\n",
       "      <td>0.231689</td>\n",
       "      <td>0.285714</td>\n",
       "    </tr>\n",
       "    <tr>\n",
       "      <th>75%</th>\n",
       "      <td>1.000000</td>\n",
       "      <td>0.729730</td>\n",
       "      <td>0.714286</td>\n",
       "      <td>0.146018</td>\n",
       "      <td>0.407650</td>\n",
       "      <td>0.336920</td>\n",
       "      <td>0.332456</td>\n",
       "      <td>0.326358</td>\n",
       "      <td>0.357143</td>\n",
       "    </tr>\n",
       "    <tr>\n",
       "      <th>max</th>\n",
       "      <td>1.000000</td>\n",
       "      <td>1.000000</td>\n",
       "      <td>1.000000</td>\n",
       "      <td>1.000000</td>\n",
       "      <td>1.000000</td>\n",
       "      <td>1.000000</td>\n",
       "      <td>1.000000</td>\n",
       "      <td>1.000000</td>\n",
       "      <td>1.000000</td>\n",
       "    </tr>\n",
       "  </tbody>\n",
       "</table>\n",
       "</div>"
      ],
      "text/plain": [
       "                 0            1            2            3            4  \\\n",
       "count  4177.000000  4177.000000  4177.000000  4177.000000  4177.000000   \n",
       "mean      0.526454     0.606746     0.593078     0.123466     0.292808   \n",
       "std       0.411120     0.162288     0.166790     0.037015     0.173681   \n",
       "min       0.000000     0.000000     0.000000     0.000000     0.000000   \n",
       "25%       0.000000     0.506757     0.495798     0.101770     0.155658   \n",
       "50%       0.500000     0.635135     0.621849     0.123894     0.282451   \n",
       "75%       1.000000     0.729730     0.714286     0.146018     0.407650   \n",
       "max       1.000000     1.000000     1.000000     1.000000     1.000000   \n",
       "\n",
       "                 5            6            7            8  \n",
       "count  4177.000000  4177.000000  4177.000000  4177.000000  \n",
       "mean      0.241000     0.237121     0.236503     0.319060  \n",
       "std       0.149269     0.144324     0.138717     0.115149  \n",
       "min       0.000000     0.000000     0.000000     0.000000  \n",
       "25%       0.124412     0.122449     0.128052     0.250000  \n",
       "50%       0.225286     0.224490     0.231689     0.285714  \n",
       "75%       0.336920     0.332456     0.326358     0.357143  \n",
       "max       1.000000     1.000000     1.000000     1.000000  "
      ]
     },
     "execution_count": 2,
     "metadata": {},
     "output_type": "execute_result"
    }
   ],
   "source": [
    "data_origin = pd.read_csv(r'../3_Normalización/datasets/abalone_dataset.csv', header=None)\n",
    "dataset = fit_cols(data_origin, [0], Ordinal)\n",
    "dataset = fit_cols(dataset, dataset.columns, Min_Max)\n",
    "# dataset.head(20)\n",
    "dataset.describe()"
   ]
  },
  {
   "cell_type": "code",
   "execution_count": 3,
   "metadata": {},
   "outputs": [
    {
     "name": "stdout",
     "output_type": "stream",
     "text": [
      "(3341, 8) (3341, 1)\n",
      "(836, 8) (836, 1)\n"
     ]
    }
   ],
   "source": [
    "X_train, X_test, Y_train, Y_test = split_Dataset(dataset, [8])\n",
    "print(np.shape(X_train),np.shape(Y_train))\n",
    "print(np.shape(X_test),np.shape(Y_test))"
   ]
  },
  {
   "cell_type": "code",
   "execution_count": 7,
   "metadata": {},
   "outputs": [
    {
     "name": "stderr",
     "output_type": "stream",
     "text": [
      "/home/danipeix/.local/lib/python3.8/site-packages/keras/optimizer_v2/optimizer_v2.py:355: UserWarning: The `lr` argument is deprecated, use `learning_rate` instead.\n",
      "  warnings.warn(\n"
     ]
    }
   ],
   "source": [
    "from tensorflow.keras.datasets import mnist\n",
    "from tensorflow.python.keras.utils import np_utils\n",
    "from tensorflow.keras import Sequential\n",
    "from tensorflow.keras import optimizers\n",
    "from tensorflow.keras.layers import Input, Dense, Dropout, Activation, Flatten\n",
    "from tensorflow.keras.optimizers import Adam, RMSprop\n",
    "\n",
    "\n",
    "\n",
    "def Show_History(History):\n",
    "    # summarize history for loss\n",
    "    plt.plot(History.history['loss'])\n",
    "    plt.plot(History.history['val_loss'])\n",
    "    plt.title('model loss')\n",
    "    plt.ylabel('loss')\n",
    "    plt.xlabel('epoch')\n",
    "    plt.legend(['train', 'test'], loc='upper left')\n",
    "    plt.show()\n",
    "\n",
    "np.random.seed(7)\n",
    "\n",
    "Adam=optimizers.Adam(lr=0.05)\n",
    "Sgd=optimizers.SGD(lr=0.01)"
   ]
  },
  {
   "cell_type": "code",
   "execution_count": 8,
   "metadata": {},
   "outputs": [],
   "source": [
    "def Model1():\n",
    "    model = Sequential()\n",
    "    model.add(Dense(20,input_dim=8,activation='relu'))\n",
    "    model.add(Dense(36, activation='relu' ))\n",
    "    model.add(Dense(1, activation='sigmoid'))\n",
    " \n",
    "    model.compile(loss='mean_squared_error',\n",
    "                  optimizer='sgd',\n",
    "                  metrics=['accuracy'])\n",
    "    return model\n",
    "\n",
    "\n",
    "\n",
    "M=Model1()"
   ]
  },
  {
   "cell_type": "code",
   "execution_count": 9,
   "metadata": {},
   "outputs": [
    {
     "name": "stdout",
     "output_type": "stream",
     "text": [
      "Epoch 1/30\n",
      "669/669 [==============================] - 1s 698us/step - loss: 0.0266 - accuracy: 2.9931e-04 - val_loss: 0.0149 - val_accuracy: 0.0000e+00\n",
      "Epoch 2/30\n",
      "669/669 [==============================] - 0s 587us/step - loss: 0.0148 - accuracy: 2.9931e-04 - val_loss: 0.0130 - val_accuracy: 0.0000e+00\n",
      "Epoch 3/30\n",
      "669/669 [==============================] - 0s 565us/step - loss: 0.0134 - accuracy: 2.9931e-04 - val_loss: 0.0120 - val_accuracy: 0.0000e+00\n",
      "Epoch 4/30\n",
      "669/669 [==============================] - 0s 631us/step - loss: 0.0125 - accuracy: 2.9931e-04 - val_loss: 0.0113 - val_accuracy: 0.0000e+00\n",
      "Epoch 5/30\n",
      "669/669 [==============================] - 0s 620us/step - loss: 0.0118 - accuracy: 2.9931e-04 - val_loss: 0.0107 - val_accuracy: 0.0000e+00\n",
      "Epoch 6/30\n",
      "669/669 [==============================] - 0s 678us/step - loss: 0.0112 - accuracy: 2.9931e-04 - val_loss: 0.0103 - val_accuracy: 0.0000e+00\n",
      "Epoch 7/30\n",
      "669/669 [==============================] - 0s 639us/step - loss: 0.0108 - accuracy: 2.9931e-04 - val_loss: 0.0099 - val_accuracy: 0.0000e+00\n",
      "Epoch 8/30\n",
      "669/669 [==============================] - 0s 557us/step - loss: 0.0104 - accuracy: 2.9931e-04 - val_loss: 0.0097 - val_accuracy: 0.0000e+00\n",
      "Epoch 9/30\n",
      "669/669 [==============================] - 0s 568us/step - loss: 0.0101 - accuracy: 2.9931e-04 - val_loss: 0.0094 - val_accuracy: 0.0000e+00\n",
      "Epoch 10/30\n",
      "669/669 [==============================] - 0s 542us/step - loss: 0.0098 - accuracy: 2.9931e-04 - val_loss: 0.0092 - val_accuracy: 0.0000e+00\n",
      "Epoch 11/30\n",
      "669/669 [==============================] - 0s 548us/step - loss: 0.0096 - accuracy: 2.9931e-04 - val_loss: 0.0091 - val_accuracy: 0.0000e+00\n",
      "Epoch 12/30\n",
      "669/669 [==============================] - 0s 557us/step - loss: 0.0094 - accuracy: 2.9931e-04 - val_loss: 0.0089 - val_accuracy: 0.0000e+00\n",
      "Epoch 13/30\n",
      "669/669 [==============================] - 0s 552us/step - loss: 0.0092 - accuracy: 2.9931e-04 - val_loss: 0.0088 - val_accuracy: 0.0000e+00\n",
      "Epoch 14/30\n",
      "669/669 [==============================] - 0s 567us/step - loss: 0.0091 - accuracy: 2.9931e-04 - val_loss: 0.0087 - val_accuracy: 0.0000e+00\n",
      "Epoch 15/30\n",
      "669/669 [==============================] - 0s 544us/step - loss: 0.0090 - accuracy: 2.9931e-04 - val_loss: 0.0086 - val_accuracy: 0.0000e+00\n",
      "Epoch 16/30\n",
      "669/669 [==============================] - 0s 570us/step - loss: 0.0089 - accuracy: 2.9931e-04 - val_loss: 0.0086 - val_accuracy: 0.0000e+00\n",
      "Epoch 17/30\n",
      "669/669 [==============================] - 0s 567us/step - loss: 0.0088 - accuracy: 2.9931e-04 - val_loss: 0.0085 - val_accuracy: 0.0000e+00\n",
      "Epoch 18/30\n",
      "669/669 [==============================] - 0s 554us/step - loss: 0.0087 - accuracy: 2.9931e-04 - val_loss: 0.0085 - val_accuracy: 0.0000e+00\n",
      "Epoch 19/30\n",
      "669/669 [==============================] - 0s 555us/step - loss: 0.0086 - accuracy: 2.9931e-04 - val_loss: 0.0084 - val_accuracy: 0.0000e+00\n",
      "Epoch 20/30\n",
      "669/669 [==============================] - 0s 560us/step - loss: 0.0086 - accuracy: 2.9931e-04 - val_loss: 0.0084 - val_accuracy: 0.0000e+00\n",
      "Epoch 21/30\n",
      "669/669 [==============================] - 0s 553us/step - loss: 0.0085 - accuracy: 2.9931e-04 - val_loss: 0.0084 - val_accuracy: 0.0000e+00\n",
      "Epoch 22/30\n",
      "669/669 [==============================] - 0s 567us/step - loss: 0.0085 - accuracy: 2.9931e-04 - val_loss: 0.0083 - val_accuracy: 0.0000e+00\n",
      "Epoch 23/30\n",
      "669/669 [==============================] - 0s 566us/step - loss: 0.0085 - accuracy: 2.9931e-04 - val_loss: 0.0083 - val_accuracy: 0.0000e+00\n",
      "Epoch 24/30\n",
      "669/669 [==============================] - 0s 556us/step - loss: 0.0084 - accuracy: 2.9931e-04 - val_loss: 0.0083 - val_accuracy: 0.0000e+00\n",
      "Epoch 25/30\n",
      "669/669 [==============================] - 0s 575us/step - loss: 0.0084 - accuracy: 2.9931e-04 - val_loss: 0.0082 - val_accuracy: 0.0000e+00\n",
      "Epoch 26/30\n",
      "669/669 [==============================] - 0s 546us/step - loss: 0.0083 - accuracy: 2.9931e-04 - val_loss: 0.0082 - val_accuracy: 0.0000e+00\n",
      "Epoch 27/30\n",
      "669/669 [==============================] - 0s 547us/step - loss: 0.0083 - accuracy: 2.9931e-04 - val_loss: 0.0082 - val_accuracy: 0.0000e+00\n",
      "Epoch 28/30\n",
      "669/669 [==============================] - 0s 560us/step - loss: 0.0083 - accuracy: 2.9931e-04 - val_loss: 0.0082 - val_accuracy: 0.0000e+00\n",
      "Epoch 29/30\n",
      "669/669 [==============================] - 0s 547us/step - loss: 0.0083 - accuracy: 2.9931e-04 - val_loss: 0.0081 - val_accuracy: 0.0000e+00\n",
      "Epoch 30/30\n",
      "669/669 [==============================] - 0s 546us/step - loss: 0.0082 - accuracy: 2.9931e-04 - val_loss: 0.0081 - val_accuracy: 0.0000e+00\n"
     ]
    },
    {
     "data": {
      "image/png": "[encoded data removed]",
      "text/plain": [
       "<Figure size 432x288 with 1 Axes>"
      ]
     },
     "metadata": {
      "needs_background": "light"
     },
     "output_type": "display_data"
    },
    {
     "data": {
      "image/png": "[encoded data removed]",
      "text/plain": [
       "<Figure size 432x288 with 1 Axes>"
      ]
     },
     "metadata": {
      "needs_background": "light"
     },
     "output_type": "display_data"
    }
   ],
   "source": [
    "History=M.fit(X_train,Y_train,\n",
    "              epochs=30,\n",
    "              batch_size=5,\n",
    "              validation_data=(X_test,Y_test))\n",
    "\n",
    "Show_History(History)"
   ]
  },
  {
   "cell_type": "code",
   "execution_count": null,
   "metadata": {},
   "outputs": [],
   "source": []
  }
 ],
 "metadata": {
  "kernelspec": {
   "display_name": "Python 3",
   "language": "python",
   "name": "python3"
  },
  "language_info": {
   "codemirror_mode": {
    "name": "ipython",
    "version": 3
   },
   "file_extension": ".py",
   "mimetype": "text/x-python",
   "name": "python",
   "nbconvert_exporter": "python",
   "pygments_lexer": "ipython3",
   "version": "3.8.10"
  }
 },
 "nbformat": 4,
 "nbformat_minor": 4
}
