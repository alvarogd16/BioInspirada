{
 "cells": [
  {
   "cell_type": "markdown",
   "metadata": {},
   "source": [
    "Ejemplo de regresión múltiple"
   ]
  },
  {
   "cell_type": "code",
   "execution_count": 1,
   "metadata": {},
   "outputs": [
    {
     "ename": "ModuleNotFoundError",
     "evalue": "No module named 'tensorflow'",
     "output_type": "error",
     "traceback": [
      "\u001b[0;31m---------------------------------------------------------------------------\u001b[0m",
      "\u001b[0;31mModuleNotFoundError\u001b[0m                       Traceback (most recent call last)",
      "\u001b[0;32m<ipython-input-1-e30c6be7a8a3>\u001b[0m in \u001b[0;36m<module>\u001b[0;34m\u001b[0m\n\u001b[1;32m     11\u001b[0m \u001b[0;32mimport\u001b[0m \u001b[0mtime\u001b[0m\u001b[0;34m\u001b[0m\u001b[0;34m\u001b[0m\u001b[0m\n\u001b[1;32m     12\u001b[0m \u001b[0;34m\u001b[0m\u001b[0m\n\u001b[0;32m---> 13\u001b[0;31m \u001b[0;32mimport\u001b[0m \u001b[0mtensorflow\u001b[0m \u001b[0;32mas\u001b[0m \u001b[0mtf\u001b[0m\u001b[0;34m\u001b[0m\u001b[0;34m\u001b[0m\u001b[0m\n\u001b[0m\u001b[1;32m     14\u001b[0m \u001b[0;32mfrom\u001b[0m \u001b[0mtensorflow\u001b[0m \u001b[0;32mimport\u001b[0m \u001b[0mkeras\u001b[0m\u001b[0;34m\u001b[0m\u001b[0;34m\u001b[0m\u001b[0m\n\u001b[1;32m     15\u001b[0m \u001b[0;34m\u001b[0m\u001b[0m\n",
      "\u001b[0;31mModuleNotFoundError\u001b[0m: No module named 'tensorflow'"
     ]
    }
   ],
   "source": [
    "\n",
    "import matplotlib as mpl\n",
    "import matplotlib.pyplot as plt\n",
    "%matplotlib inline\n",
    "# Procesamiento de la biblioteca de datos\n",
    "import numpy as np\n",
    "import sklearn\n",
    "import pandas as pd\n",
    "\n",
    "import os\n",
    "import sys\n",
    "import time\n",
    "\n",
    "import tensorflow as tf\n",
    "from tensorflow import keras\n",
    "\n"
   ]
  },
  {
   "cell_type": "code",
   "execution_count": 14,
   "metadata": {},
   "outputs": [
    {
     "name": "stdout",
     "output_type": "stream",
     "text": [
      ".. _california_housing_dataset:\n",
      "\n",
      "California Housing dataset\n",
      "--------------------------\n",
      "\n",
      "**Data Set Characteristics:**\n",
      "\n",
      "    :Number of Instances: 20640\n",
      "\n",
      "    :Number of Attributes: 8 numeric, predictive attributes and the target\n",
      "\n",
      "    :Attribute Information:\n",
      "        - MedInc        median income in block\n",
      "        - HouseAge      median house age in block\n",
      "        - AveRooms      average number of rooms\n",
      "        - AveBedrms     average number of bedrooms\n",
      "        - Population    block population\n",
      "        - AveOccup      average house occupancy\n",
      "        - Latitude      house block latitude\n",
      "        - Longitude     house block longitude\n",
      "\n",
      "    :Missing Attribute Values: None\n",
      "\n",
      "This dataset was obtained from the StatLib repository.\n",
      "http://lib.stat.cmu.edu/datasets/\n",
      "\n",
      "The target variable is the median house value for California districts.\n",
      "\n",
      "This dataset was derived from the 1990 U.S. census, using one row per census\n",
      "block group. A block group is the smallest geographical unit for which the U.S.\n",
      "Census Bureau publishes sample data (a block group typically has a population\n",
      "of 600 to 3,000 people).\n",
      "\n",
      "It can be downloaded/loaded using the\n",
      ":func:`sklearn.datasets.fetch_california_housing` function.\n",
      "\n",
      ".. topic:: References\n",
      "\n",
      "    - Pace, R. Kelley and Ronald Barry, Sparse Spatial Autoregressions,\n",
      "      Statistics and Probability Letters, 33 (1997) 291-297\n",
      "\n",
      "(20640, 8)\n",
      "(20640,)\n"
     ]
    }
   ],
   "source": [
    "from sklearn.datasets import fetch_california_housing\n",
    "# Obtener conjunto de datos\n",
    "housing = fetch_california_housing()\n",
    "# Imprimir información del conjunto de datos\n",
    "print(housing.DESCR)\n",
    "print(housing.data.shape)\n",
    "print(housing.target.shape)\n"
   ]
  },
  {
   "cell_type": "code",
   "execution_count": 15,
   "metadata": {},
   "outputs": [
    {
     "name": "stdout",
     "output_type": "stream",
     "text": [
      "(11610, 8) (11610,)\n",
      "(5160, 8) (5160,)\n",
      "(3870, 8) (3870,)\n"
     ]
    }
   ],
   "source": [
    "from sklearn.model_selection import train_test_split\n",
    "# test_size se refiere a la relación entre el conjunto de entrenamiento dividido y el conjunto de prueba\n",
    "# test_size El valor predeterminado es 0.25, lo que significa que los datos se dividen en cuatro partes y el conjunto de prueba ocupa una parte\n",
    "x_train_all, x_test, y_train_all, y_test = train_test_split(housing.data, housing.target, random_state = 7, test_size = 0.25)\n",
    "x_train, x_valid, y_train, y_valid = train_test_split(x_train_all, y_train_all, random_state = 11, test_size = 0.25)\n",
    "# Imprime las dimensiones del conjunto de datos\n",
    "print(x_train.shape, y_train.shape)\n",
    "print(x_test.shape, y_test.shape)\n",
    "print(x_valid.shape, y_valid.shape)"
   ]
  },
  {
   "cell_type": "code",
   "execution_count": 16,
   "metadata": {},
   "outputs": [],
   "source": [
    "# Normalización de datos\n",
    "from sklearn.preprocessing import StandardScaler\n",
    "scaler = StandardScaler()\n",
    "# Los datos del conjunto de entrenamiento utilizan fit_transform, que es diferente de la transformación utilizada en el conjunto de validación y el conjunto de prueba\n",
    "# fit_transform puede calcular la media y la varianza de los datos y registrarlos\n",
    "# La media y la varianza utilizadas en el conjunto de validación y el conjunto de prueba son todos de los datos del conjunto de entrenamiento, por lo que la normalización de los dos se puede hacer usando transform\n",
    "# La normalización es solo para los datos de entrada, la etiqueta permanece sin cambios\n",
    "x_train_scaled = scaler.fit_transform(x_train)\n",
    "x_valid_scaled = scaler.transform(x_valid)\n",
    "x_test_scaled = scaler.transform(x_test)"
   ]
  },
  {
   "cell_type": "code",
   "execution_count": 21,
   "metadata": {},
   "outputs": [
    {
     "name": "stdout",
     "output_type": "stream",
     "text": [
      "Model: \"sequential_7\"\n",
      "_________________________________________________________________\n",
      "Layer (type)                 Output Shape              Param #   \n",
      "=================================================================\n",
      "dense_17 (Dense)             (None, 20)                180       \n",
      "_________________________________________________________________\n",
      "dense_18 (Dense)             (None, 10)                210       \n",
      "_________________________________________________________________\n",
      "dense_19 (Dense)             (None, 1)                 11        \n",
      "=================================================================\n",
      "Total params: 401\n",
      "Trainable params: 401\n",
      "Non-trainable params: 0\n",
      "_________________________________________________________________\n"
     ]
    }
   ],
   "source": [
    "model2 = keras.models.Sequential([\n",
    "    keras.layers.Dense(10, activation='relu', input_shape=x_train.shape[1:]),\n",
    "    keras.layers.Dense(1),\n",
    "])\n",
    "\n",
    "\n",
    "model1 = keras.models.Sequential([\n",
    "    keras.layers.Dense(20, activation='relu', input_shape=x_train.shape[1:]),\n",
    "    keras.layers.Dense(10, activation='relu'),\n",
    "    keras.layers.Dense(1),\n",
    "])\n",
    "model=model1\n",
    "model.summary()\n",
    "\n",
    "model.compile(loss=\"mean_squared_error\", optimizer = keras.optimizers.SGD(0.001))\n",
    "# La función de devolución de llamada usa EarlyStopping, la paciencia se establece en 5 y el umbral se establece en 1e-2\n",
    "callbacks = [keras.callbacks.EarlyStopping(patience=5, min_delta=1e-3)]"
   ]
  },
  {
   "cell_type": "code",
   "execution_count": 22,
   "metadata": {},
   "outputs": [
    {
     "name": "stdout",
     "output_type": "stream",
     "text": [
      "Epoch 1/100\n",
      "363/363 [==============================] - 0s 867us/step - loss: 2.5537 - val_loss: 1.1008\n",
      "Epoch 2/100\n",
      "363/363 [==============================] - 0s 672us/step - loss: 0.9204 - val_loss: 0.8593\n",
      "Epoch 3/100\n",
      "363/363 [==============================] - 0s 652us/step - loss: 0.7708 - val_loss: 0.7740\n",
      "Epoch 4/100\n",
      "363/363 [==============================] - 0s 681us/step - loss: 0.7133 - val_loss: 0.7282\n",
      "Epoch 5/100\n",
      "363/363 [==============================] - 0s 671us/step - loss: 0.6919 - val_loss: 0.6939\n",
      "Epoch 6/100\n",
      "363/363 [==============================] - 0s 692us/step - loss: 0.6220 - val_loss: 0.6658\n",
      "Epoch 7/100\n",
      "363/363 [==============================] - 0s 698us/step - loss: 0.6086 - val_loss: 0.6401\n",
      "Epoch 8/100\n",
      "363/363 [==============================] - 0s 668us/step - loss: 0.5904 - val_loss: 0.6203\n",
      "Epoch 9/100\n",
      "363/363 [==============================] - 0s 686us/step - loss: 0.5677 - val_loss: 0.6045\n",
      "Epoch 10/100\n",
      "363/363 [==============================] - 0s 690us/step - loss: 0.5488 - val_loss: 0.5854\n",
      "Epoch 11/100\n",
      "363/363 [==============================] - 0s 680us/step - loss: 0.5308 - val_loss: 0.5730\n",
      "Epoch 12/100\n",
      "363/363 [==============================] - 0s 665us/step - loss: 0.5467 - val_loss: 0.5580\n",
      "Epoch 13/100\n",
      "363/363 [==============================] - 0s 671us/step - loss: 0.5121 - val_loss: 0.5478\n",
      "Epoch 14/100\n",
      "363/363 [==============================] - 0s 667us/step - loss: 0.5113 - val_loss: 0.5381\n",
      "Epoch 15/100\n",
      "363/363 [==============================] - 0s 688us/step - loss: 0.4986 - val_loss: 0.5282\n",
      "Epoch 16/100\n",
      "363/363 [==============================] - 0s 696us/step - loss: 0.5204 - val_loss: 0.5222\n",
      "Epoch 17/100\n",
      "363/363 [==============================] - 0s 662us/step - loss: 0.5031 - val_loss: 0.5152\n",
      "Epoch 18/100\n",
      "363/363 [==============================] - 0s 662us/step - loss: 0.4911 - val_loss: 0.5083\n",
      "Epoch 19/100\n",
      "363/363 [==============================] - 0s 662us/step - loss: 0.4645 - val_loss: 0.5022\n",
      "Epoch 20/100\n",
      "363/363 [==============================] - 0s 688us/step - loss: 0.4676 - val_loss: 0.4979\n",
      "Epoch 21/100\n",
      "363/363 [==============================] - 0s 706us/step - loss: 0.4558 - val_loss: 0.4920\n",
      "Epoch 22/100\n",
      "363/363 [==============================] - 0s 671us/step - loss: 0.4651 - val_loss: 0.4871\n",
      "Epoch 23/100\n",
      "363/363 [==============================] - 0s 676us/step - loss: 0.4607 - val_loss: 0.4833\n",
      "Epoch 24/100\n",
      "363/363 [==============================] - 0s 685us/step - loss: 0.4618 - val_loss: 0.4800\n",
      "Epoch 25/100\n",
      "363/363 [==============================] - 0s 681us/step - loss: 0.4383 - val_loss: 0.4760\n",
      "Epoch 26/100\n",
      "363/363 [==============================] - 0s 672us/step - loss: 0.4328 - val_loss: 0.4720\n",
      "Epoch 27/100\n",
      "363/363 [==============================] - 0s 669us/step - loss: 0.4458 - val_loss: 0.4691\n",
      "Epoch 28/100\n",
      "363/363 [==============================] - 0s 676us/step - loss: 0.4371 - val_loss: 0.4644\n",
      "Epoch 29/100\n",
      "363/363 [==============================] - 0s 681us/step - loss: 0.4323 - val_loss: 0.4620\n",
      "Epoch 30/100\n",
      "363/363 [==============================] - 0s 684us/step - loss: 0.4293 - val_loss: 0.4584\n",
      "Epoch 31/100\n",
      "363/363 [==============================] - 0s 671us/step - loss: 0.4290 - val_loss: 0.4564\n",
      "Epoch 32/100\n",
      "363/363 [==============================] - 0s 669us/step - loss: 0.4336 - val_loss: 0.4531\n",
      "Epoch 33/100\n",
      "363/363 [==============================] - 0s 666us/step - loss: 0.4304 - val_loss: 0.4510\n",
      "Epoch 34/100\n",
      "363/363 [==============================] - 0s 666us/step - loss: 0.4238 - val_loss: 0.4487\n",
      "Epoch 35/100\n",
      "363/363 [==============================] - 0s 667us/step - loss: 0.4252 - val_loss: 0.4454\n",
      "Epoch 36/100\n",
      "363/363 [==============================] - 0s 680us/step - loss: 0.4219 - val_loss: 0.4442\n",
      "Epoch 37/100\n",
      "363/363 [==============================] - 0s 680us/step - loss: 0.4037 - val_loss: 0.4424\n",
      "Epoch 38/100\n",
      "363/363 [==============================] - 0s 681us/step - loss: 0.4216 - val_loss: 0.4406\n",
      "Epoch 39/100\n",
      "363/363 [==============================] - 0s 678us/step - loss: 0.4197 - val_loss: 0.4387\n",
      "Epoch 40/100\n",
      "363/363 [==============================] - 0s 663us/step - loss: 0.4219 - val_loss: 0.4360\n",
      "Epoch 41/100\n",
      "363/363 [==============================] - 0s 684us/step - loss: 0.4235 - val_loss: 0.4336\n",
      "Epoch 42/100\n",
      "363/363 [==============================] - 0s 700us/step - loss: 0.4022 - val_loss: 0.4323\n",
      "Epoch 43/100\n",
      "363/363 [==============================] - 0s 666us/step - loss: 0.4194 - val_loss: 0.4331\n",
      "Epoch 44/100\n",
      "363/363 [==============================] - 0s 650us/step - loss: 0.4059 - val_loss: 0.4289\n",
      "Epoch 45/100\n",
      "363/363 [==============================] - 0s 647us/step - loss: 0.4025 - val_loss: 0.4272\n",
      "Epoch 46/100\n",
      "363/363 [==============================] - 0s 657us/step - loss: 0.4020 - val_loss: 0.4253\n",
      "Epoch 47/100\n",
      "363/363 [==============================] - 0s 666us/step - loss: 0.4075 - val_loss: 0.4235\n",
      "Epoch 48/100\n",
      "363/363 [==============================] - 0s 663us/step - loss: 0.4285 - val_loss: 0.4229\n",
      "Epoch 49/100\n",
      "363/363 [==============================] - 0s 650us/step - loss: 0.4018 - val_loss: 0.4205\n",
      "Epoch 50/100\n",
      "363/363 [==============================] - 0s 665us/step - loss: 0.4094 - val_loss: 0.4191\n",
      "Epoch 51/100\n",
      "363/363 [==============================] - 0s 667us/step - loss: 0.4088 - val_loss: 0.4181\n",
      "Epoch 52/100\n",
      "363/363 [==============================] - 0s 675us/step - loss: 0.3912 - val_loss: 0.4167\n",
      "Epoch 53/100\n",
      "363/363 [==============================] - 0s 695us/step - loss: 0.3854 - val_loss: 0.4158\n",
      "Epoch 54/100\n",
      "363/363 [==============================] - 0s 654us/step - loss: 0.3836 - val_loss: 0.4133\n",
      "Epoch 55/100\n",
      "363/363 [==============================] - 0s 679us/step - loss: 0.4208 - val_loss: 0.4132\n",
      "Epoch 56/100\n",
      "363/363 [==============================] - 0s 674us/step - loss: 0.3994 - val_loss: 0.4124\n",
      "Epoch 57/100\n",
      "363/363 [==============================] - 0s 678us/step - loss: 0.4019 - val_loss: 0.4097\n",
      "Epoch 58/100\n",
      "363/363 [==============================] - 0s 667us/step - loss: 0.3860 - val_loss: 0.4087\n",
      "Epoch 59/100\n",
      "363/363 [==============================] - 0s 666us/step - loss: 0.4026 - val_loss: 0.4082\n",
      "Epoch 60/100\n",
      "363/363 [==============================] - 0s 729us/step - loss: 0.3912 - val_loss: 0.4070\n",
      "Epoch 61/100\n",
      "363/363 [==============================] - 0s 683us/step - loss: 0.3982 - val_loss: 0.4059\n",
      "Epoch 62/100\n",
      "363/363 [==============================] - 0s 667us/step - loss: 0.3910 - val_loss: 0.4044\n",
      "Epoch 63/100\n",
      "363/363 [==============================] - 0s 707us/step - loss: 0.3864 - val_loss: 0.4043\n",
      "Epoch 64/100\n",
      "363/363 [==============================] - 0s 691us/step - loss: 0.3786 - val_loss: 0.4030\n",
      "Epoch 65/100\n",
      "363/363 [==============================] - 0s 689us/step - loss: 0.3767 - val_loss: 0.4027\n",
      "Epoch 66/100\n",
      "363/363 [==============================] - 0s 682us/step - loss: 0.3807 - val_loss: 0.4032\n",
      "Epoch 67/100\n",
      "363/363 [==============================] - 0s 676us/step - loss: 0.3676 - val_loss: 0.4030\n",
      "Epoch 68/100\n",
      "363/363 [==============================] - 0s 687us/step - loss: 0.3807 - val_loss: 0.3995\n",
      "Epoch 69/100\n",
      "363/363 [==============================] - 0s 664us/step - loss: 0.3806 - val_loss: 0.3983\n",
      "Epoch 70/100\n",
      "363/363 [==============================] - 0s 684us/step - loss: 0.3868 - val_loss: 0.3984\n",
      "Epoch 71/100\n",
      "363/363 [==============================] - 0s 689us/step - loss: 0.3758 - val_loss: 0.3971\n",
      "Epoch 72/100\n",
      "363/363 [==============================] - 0s 690us/step - loss: 0.3751 - val_loss: 0.3968\n",
      "Epoch 73/100\n",
      "363/363 [==============================] - 0s 691us/step - loss: 0.3774 - val_loss: 0.3959\n",
      "Epoch 74/100\n",
      "363/363 [==============================] - 0s 671us/step - loss: 0.3891 - val_loss: 0.3965\n",
      "Epoch 75/100\n",
      "363/363 [==============================] - 0s 676us/step - loss: 0.3879 - val_loss: 0.3947\n",
      "Epoch 76/100\n",
      "363/363 [==============================] - 0s 670us/step - loss: 0.3771 - val_loss: 0.3939\n",
      "Epoch 77/100\n",
      "363/363 [==============================] - 0s 667us/step - loss: 0.3728 - val_loss: 0.3931\n",
      "Epoch 78/100\n",
      "363/363 [==============================] - 0s 659us/step - loss: 0.3808 - val_loss: 0.3929\n",
      "Epoch 79/100\n",
      "363/363 [==============================] - 0s 687us/step - loss: 0.3694 - val_loss: 0.3926\n"
     ]
    },
    {
     "name": "stdout",
     "output_type": "stream",
     "text": [
      "Epoch 80/100\n",
      "363/363 [==============================] - 0s 660us/step - loss: 0.3748 - val_loss: 0.3919\n",
      "Epoch 81/100\n",
      "363/363 [==============================] - 0s 674us/step - loss: 0.3690 - val_loss: 0.3905\n",
      "Epoch 82/100\n",
      "363/363 [==============================] - 0s 649us/step - loss: 0.3786 - val_loss: 0.3897\n",
      "Epoch 83/100\n",
      "363/363 [==============================] - 0s 645us/step - loss: 0.3599 - val_loss: 0.3891\n",
      "Epoch 84/100\n",
      "363/363 [==============================] - 0s 670us/step - loss: 0.3737 - val_loss: 0.3893\n",
      "Epoch 85/100\n",
      "363/363 [==============================] - 0s 673us/step - loss: 0.3697 - val_loss: 0.3884\n",
      "Epoch 86/100\n",
      "363/363 [==============================] - 0s 664us/step - loss: 0.3823 - val_loss: 0.3887\n",
      "Epoch 87/100\n",
      "363/363 [==============================] - 0s 654us/step - loss: 0.3725 - val_loss: 0.3864\n",
      "Epoch 88/100\n",
      "363/363 [==============================] - 0s 686us/step - loss: 0.3576 - val_loss: 0.3862\n",
      "Epoch 89/100\n",
      "363/363 [==============================] - 0s 662us/step - loss: 0.3722 - val_loss: 0.3852\n",
      "Epoch 90/100\n",
      "363/363 [==============================] - 0s 696us/step - loss: 0.3641 - val_loss: 0.3851\n",
      "Epoch 91/100\n",
      "363/363 [==============================] - 0s 678us/step - loss: 0.3667 - val_loss: 0.3840\n",
      "Epoch 92/100\n",
      "363/363 [==============================] - 0s 692us/step - loss: 0.3629 - val_loss: 0.3840\n",
      "Epoch 93/100\n",
      "363/363 [==============================] - 0s 655us/step - loss: 0.3709 - val_loss: 0.3858\n",
      "Epoch 94/100\n",
      "363/363 [==============================] - 0s 665us/step - loss: 0.3553 - val_loss: 0.3822\n",
      "Epoch 95/100\n",
      "363/363 [==============================] - 0s 670us/step - loss: 0.3720 - val_loss: 0.3829\n",
      "Epoch 96/100\n",
      "363/363 [==============================] - 0s 666us/step - loss: 0.3656 - val_loss: 0.3810\n",
      "Epoch 97/100\n",
      "363/363 [==============================] - 0s 668us/step - loss: 0.3627 - val_loss: 0.3818\n",
      "Epoch 98/100\n",
      "363/363 [==============================] - 0s 657us/step - loss: 0.3572 - val_loss: 0.3809\n",
      "Epoch 99/100\n",
      "363/363 [==============================] - 0s 658us/step - loss: 0.3577 - val_loss: 0.3807\n",
      "Epoch 100/100\n",
      "363/363 [==============================] - 0s 671us/step - loss: 0.3623 - val_loss: 0.3780\n"
     ]
    }
   ],
   "source": [
    "history = model.fit(x_train_scaled, y_train,\n",
    "                   validation_data=(x_valid_scaled, y_valid),\n",
    "                   epochs = 100,\n",
    "                   callbacks= callbacks)"
   ]
  },
  {
   "cell_type": "code",
   "execution_count": 23,
   "metadata": {},
   "outputs": [
    {
     "data": {
      "image/png": "[encoded data removed]",
      "text/plain": [
       "<Figure size 576x360 with 1 Axes>"
      ]
     },
     "metadata": {
      "needs_background": "light"
     },
     "output_type": "display_data"
    }
   ],
   "source": [
    "def plot_learning_curves(history):\n",
    "    pd.DataFrame(history.history).plot(figsize=(8,5))\n",
    "    plt.grid(True)\n",
    "    plt.gca().set_ylim(0,1)\n",
    "    plt.show()\n",
    "plot_learning_curves(history)"
   ]
  },
  {
   "cell_type": "code",
   "execution_count": 24,
   "metadata": {},
   "outputs": [
    {
     "name": "stdout",
     "output_type": "stream",
     "text": [
      "162/162 [==============================] - 0s 436us/step - loss: 0.3838\n"
     ]
    },
    {
     "data": {
      "text/plain": [
       "0.38380539417266846"
      ]
     },
     "execution_count": 24,
     "metadata": {},
     "output_type": "execute_result"
    }
   ],
   "source": [
    "model.evaluate(x_test_scaled, y_test)\n"
   ]
  },
  {
   "cell_type": "code",
   "execution_count": null,
   "metadata": {},
   "outputs": [],
   "source": []
  }
 ],
 "metadata": {
  "interpreter": {
   "hash": "c9e6f42c9bf154cf9b9e87541e517fa2c69e39349a7d6df0c90be082366bd360"
  },
  "kernelspec": {
   "display_name": "Python 3",
   "language": "python",
   "name": "python3"
  },
  "language_info": {
   "codemirror_mode": {
    "name": "ipython",
    "version": 3
   },
   "file_extension": ".py",
   "mimetype": "text/x-python",
   "name": "python",
   "nbconvert_exporter": "python",
   "pygments_lexer": "ipython3",
   "version": "3.8.6"
  }
 },
 "nbformat": 4,
 "nbformat_minor": 2
}
