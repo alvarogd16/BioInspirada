{
 "cells": [
  {
   "cell_type": "markdown",
   "id": "956236d7",
   "metadata": {},
   "source": [
    "# Entrega 5 CNN\n",
    "\n",
    "Primero vamos a comprobar que tenemos GPU disponible"
   ]
  },
  {
   "cell_type": "code",
   "execution_count": 1,
   "id": "55c713c3",
   "metadata": {},
   "outputs": [
    {
     "name": "stdout",
     "output_type": "stream",
     "text": [
      "[name: \"/device:CPU:0\"\n",
      "device_type: \"CPU\"\n",
      "memory_limit: 268435456\n",
      "locality {\n",
      "}\n",
      "incarnation: 15011767534547043326\n",
      ", name: \"/device:GPU:0\"\n",
      "device_type: \"GPU\"\n",
      "memory_limit: 3300982784\n",
      "locality {\n",
      "  bus_id: 1\n",
      "  links {\n",
      "  }\n",
      "}\n",
      "incarnation: 8463170372039250082\n",
      "physical_device_desc: \"device: 0, name: NVIDIA GeForce GTX 1050, pci bus id: 0000:01:00.0, compute capability: 6.1\"\n",
      "]\n"
     ]
    }
   ],
   "source": [
    "from tensorflow.python.client import device_lib\n",
    "print(device_lib.list_local_devices())"
   ]
  },
  {
   "cell_type": "markdown",
   "id": "764021c6",
   "metadata": {},
   "source": [
    "Ahora vamos a cargar el dataset, en esta caso CIFAR10. Este contiene 50000 imágenes a color de 32x32 para el entrenamiento y 10000 para el test, divididas en 10 categorias."
   ]
  },
  {
   "cell_type": "code",
   "execution_count": 2,
   "id": "41f0c5aa",
   "metadata": {},
   "outputs": [
    {
     "name": "stdout",
     "output_type": "stream",
     "text": [
      "(50000, 32, 32, 3)\n",
      "(10000, 32, 32, 3)\n",
      "(50000, 1)\n",
      "(10000, 1)\n"
     ]
    }
   ],
   "source": [
    "import tensorflow.keras\n",
    "from tensorflow.keras.datasets import cifar10\n",
    "\n",
    "(x_train, y_train), (x_test, y_test) = cifar10.load_data()\n",
    "\n",
    "print(x_train.shape)\n",
    "print(x_test.shape)\n",
    "print(y_train.shape)\n",
    "print(y_test.shape)"
   ]
  },
  {
   "cell_type": "markdown",
   "id": "bbb055bf",
   "metadata": {},
   "source": [
    "Vemos una de las imagenes y su categoría"
   ]
  },
  {
   "cell_type": "code",
   "execution_count": 3,
   "id": "bb2ec3ce",
   "metadata": {},
   "outputs": [
    {
     "name": "stdout",
     "output_type": "stream",
     "text": [
      "truck\n"
     ]
    },
    {
     "data": {
      "image/png": "[encoded data removed]",
      "text/plain": [
       "<Figure size 432x288 with 1 Axes>"
      ]
     },
     "metadata": {
      "needs_background": "light"
     },
     "output_type": "display_data"
    }
   ],
   "source": [
    "import matplotlib.pyplot as plt\n",
    "\n",
    "# Creamos las categorias para poder interpretar los resultados\n",
    "class_names = ['airplane', 'automobile', 'bird', 'cat', 'deer',\n",
    "               'dog', 'frog', 'horse', 'ship', 'truck']\n",
    "\n",
    "plt.imshow(x_train[1])\n",
    "print(class_names[y_train[1][0]])"
   ]
  },
  {
   "cell_type": "markdown",
   "id": "3e21f595",
   "metadata": {},
   "source": [
    "Preparamos los datos usando generadores que nos permiten hacer data augmentation y normalización. Además separamos un 20% de los datos de train para validación."
   ]
  },
  {
   "cell_type": "code",
   "execution_count": 4,
   "id": "a64699b3",
   "metadata": {},
   "outputs": [],
   "source": [
    "from tensorflow.keras.utils import to_categorical\n",
    "from tensorflow.keras.preprocessing.image import ImageDataGenerator\n",
    "\n",
    "# Se normalizan las imagenes. Cada canal del pixel entre 0. y 1.\n",
    "# x_train = x_train.astype('float32') / 255\n",
    "# x_test = x_test.astype('float32') / 255\n",
    "\n",
    "# Creamos el One Hot para las clases\n",
    "y_train = to_categorical(y_train)\n",
    "y_test = to_categorical(y_test)\n",
    "\n",
    "datagen = ImageDataGenerator(\n",
    "    rescale=1./255,\n",
    "    rotation_range=20,\n",
    "    width_shift_range=0.2,\n",
    "    height_shift_range=0.2,\n",
    "    horizontal_flip=True,\n",
    "    validation_split=0.2)\n",
    "\n",
    "train_generator = datagen.flow(x_train, y_train, batch_size=32, subset='training')\n",
    "\n",
    "validation_generator = datagen.flow(x_train, y_train, batch_size=8, subset='validation')\n",
    "\n",
    "test_generator = ImageDataGenerator(rescale=1./255).flow(x_test, y_test, batch_size=32)"
   ]
  },
  {
   "cell_type": "markdown",
   "id": "03ebdcd7",
   "metadata": {},
   "source": [
    "Creamos el modelo que tiene varias capas convolucionales además de algunas de dropout para paliar el overfiting"
   ]
  },
  {
   "cell_type": "code",
   "execution_count": 13,
   "id": "8a372f99",
   "metadata": {},
   "outputs": [
    {
     "name": "stdout",
     "output_type": "stream",
     "text": [
      "Model: \"sequential_3\"\n",
      "_________________________________________________________________\n",
      "Layer (type)                 Output Shape              Param #   \n",
      "=================================================================\n",
      "conv2d_11 (Conv2D)           (None, 32, 32, 32)        896       \n",
      "_________________________________________________________________\n",
      "conv2d_12 (Conv2D)           (None, 32, 32, 32)        9248      \n",
      "_________________________________________________________________\n",
      "max_pooling2d_6 (MaxPooling2 (None, 16, 16, 32)        0         \n",
      "_________________________________________________________________\n",
      "dropout_5 (Dropout)          (None, 16, 16, 32)        0         \n",
      "_________________________________________________________________\n",
      "conv2d_13 (Conv2D)           (None, 16, 16, 64)        18496     \n",
      "_________________________________________________________________\n",
      "conv2d_14 (Conv2D)           (None, 16, 16, 64)        36928     \n",
      "_________________________________________________________________\n",
      "max_pooling2d_7 (MaxPooling2 (None, 8, 8, 64)          0         \n",
      "_________________________________________________________________\n",
      "dropout_6 (Dropout)          (None, 8, 8, 64)          0         \n",
      "_________________________________________________________________\n",
      "flatten_3 (Flatten)          (None, 4096)              0         \n",
      "_________________________________________________________________\n",
      "dense_6 (Dense)              (None, 64)                262208    \n",
      "_________________________________________________________________\n",
      "dense_7 (Dense)              (None, 10)                650       \n",
      "=================================================================\n",
      "Total params: 328,426\n",
      "Trainable params: 328,426\n",
      "Non-trainable params: 0\n",
      "_________________________________________________________________\n"
     ]
    }
   ],
   "source": [
    "from tensorflow.keras import layers\n",
    "from tensorflow.keras import models\n",
    "from tensorflow.keras import losses\n",
    "from tensorflow.keras import optimizers\n",
    "\n",
    "model = models.Sequential()\n",
    "model.add(layers.Conv2D(32, (3, 3), activation='relu', kernel_initializer='he_uniform', padding='same', input_shape=(32, 32, 3)))\n",
    "model.add(layers.Conv2D(32, (3, 3), activation='relu', kernel_initializer='he_uniform', padding='same'))\n",
    "model.add(layers.MaxPooling2D((2, 2)))\n",
    "model.add(layers.Dropout(0.2))\n",
    "model.add(layers.Conv2D(64, (3, 3), activation='relu', kernel_initializer='he_uniform', padding='same'))\n",
    "model.add(layers.Conv2D(64, (3, 3), activation='relu', kernel_initializer='he_uniform', padding='same'))\n",
    "model.add(layers.MaxPooling2D((2, 2)))\n",
    "model.add(layers.Dropout(0.2))\n",
    "\n",
    "model.add(layers.Flatten())\n",
    "model.add(layers.Dense(64, activation='relu', kernel_initializer='he_uniform'))\n",
    "# model.add(layers.Dropout(0.2))\n",
    "model.add(layers.Dense(10, activation='softmax'))\n",
    "\n",
    "opt = optimizers.SGD(lr=0.001, momentum=0.9)\n",
    "model.compile(optimizer=opt, loss='categorical_crossentropy', metrics=['accuracy'])\n",
    "\n",
    "model.summary()"
   ]
  },
  {
   "cell_type": "markdown",
   "id": "270fe742",
   "metadata": {},
   "source": [
    "Entrenamos el modelo"
   ]
  },
  {
   "cell_type": "code",
   "execution_count": 6,
   "id": "3a8e84fd",
   "metadata": {},
   "outputs": [
    {
     "name": "stdout",
     "output_type": "stream",
     "text": [
      "Epoch 1/10\n",
      "1250/1250 [==============================] - 28s 18ms/step - loss: 2.3051 - accuracy: 0.1146 - val_loss: 2.2999 - val_accuracy: 0.1188\n",
      "Epoch 2/10\n",
      "1250/1250 [==============================] - 20s 16ms/step - loss: 2.3000 - accuracy: 0.1148 - val_loss: 2.2970 - val_accuracy: 0.1180\n",
      "Epoch 3/10\n",
      "1250/1250 [==============================] - 20s 16ms/step - loss: 2.2963 - accuracy: 0.1184 - val_loss: 2.2937 - val_accuracy: 0.1228\n",
      "Epoch 4/10\n",
      "1250/1250 [==============================] - 20s 16ms/step - loss: 2.2932 - accuracy: 0.1205 - val_loss: 2.2908 - val_accuracy: 0.1251\n",
      "Epoch 5/10\n",
      "1250/1250 [==============================] - 20s 16ms/step - loss: 2.2900 - accuracy: 0.1279 - val_loss: 2.2869 - val_accuracy: 0.1271\n",
      "Epoch 6/10\n",
      "1250/1250 [==============================] - 20s 16ms/step - loss: 2.2862 - accuracy: 0.1332 - val_loss: 2.2821 - val_accuracy: 0.1326\n",
      "Epoch 7/10\n",
      "1250/1250 [==============================] - 20s 16ms/step - loss: 2.2816 - accuracy: 0.1348 - val_loss: 2.2764 - val_accuracy: 0.1440\n",
      "Epoch 8/10\n",
      "1250/1250 [==============================] - 21s 17ms/step - loss: 2.2767 - accuracy: 0.1410 - val_loss: 2.2705 - val_accuracy: 0.1503\n",
      "Epoch 9/10\n",
      "1250/1250 [==============================] - 20s 16ms/step - loss: 2.2695 - accuracy: 0.1517 - val_loss: 2.2640 - val_accuracy: 0.1638\n",
      "Epoch 10/10\n",
      "1250/1250 [==============================] - 20s 16ms/step - loss: 2.2617 - accuracy: 0.1652 - val_loss: 2.2551 - val_accuracy: 0.1735\n"
     ]
    }
   ],
   "source": [
    "batch_size = 64\n",
    "num_epoch = 10\n",
    "\n",
    "model_log = model.fit(train_generator,\n",
    "          epochs=num_epoch,\n",
    "          verbose=1,\n",
    "          validation_data=validation_generator)"
   ]
  },
  {
   "cell_type": "code",
   "execution_count": 9,
   "id": "2594878f",
   "metadata": {},
   "outputs": [
    {
     "data": {
      "image/png": "[encoded data removed]",
      "text/plain": [
       "<Figure size 432x288 with 2 Axes>"
      ]
     },
     "metadata": {
      "needs_background": "light"
     },
     "output_type": "display_data"
    }
   ],
   "source": [
    "import matplotlib.pyplot as plt\n",
    "\n",
    "fig = plt.figure()\n",
    "plt.subplot(2,1,1)\n",
    "plt.plot(model_log.history['accuracy'])\n",
    "plt.plot(model_log.history['val_accuracy'])\n",
    "plt.title('model accuracy')\n",
    "plt.ylabel('accuracy')\n",
    "plt.xlabel('epoch')\n",
    "plt.legend(['train', 'validation'], loc='lower right')\n",
    "plt.subplot(2,1,2)\n",
    "plt.plot(model_log.history['loss'])\n",
    "plt.plot(model_log.history['val_loss'])\n",
    "plt.title('model loss')\n",
    "plt.ylabel('loss')\n",
    "plt.xlabel('epoch')\n",
    "plt.legend(['train', 'validation'], loc='upper right')\n",
    "plt.tight_layout()"
   ]
  },
  {
   "cell_type": "markdown",
   "id": "f5b35a17",
   "metadata": {},
   "source": [
    "Resultados:\n",
    "\n",
    "    - epochs 250, batch_size 10 -> loss: 1.2901 - accuracy: 0.5482 - val_loss: 1.3121 - val_accuracy: 0.5358 (~1 hora)\n",
    "    \n",
    "    - (Con los pesos anteriores) epochs 250, batch_size 40 -> loss: 1.1985 - accuracy: 0.5817 - val_loss: 1.2194 - val_accuracy: 0.5712 (~20 min)"
   ]
  },
  {
   "cell_type": "code",
   "execution_count": 8,
   "id": "2f9e1dbc",
   "metadata": {},
   "outputs": [
    {
     "name": "stdout",
     "output_type": "stream",
     "text": [
      "313/313 [==============================] - 2s 8ms/step - loss: 2.2520 - accuracy: 0.1849\n",
      "[2.251962184906006, 0.18490000069141388]\n"
     ]
    }
   ],
   "source": [
    "results = model.evaluate(test_generator, verbose=1)\n",
    "print(results)"
   ]
  },
  {
   "cell_type": "code",
   "execution_count": null,
   "id": "5e605e4d",
   "metadata": {},
   "outputs": [],
   "source": [
    "#Save the model\n",
    "# serialize model to JSON\n",
    "model_digit_json = model.to_json()\n",
    "with open(\"modelCNN1_digit.json\", \"w\") as json_file:\n",
    "    json_file.write(model_digit_json)\n",
    "# serialize weights to HDF5\n",
    "model.save_weights(\"modelCNN1_digit.h5\")\n",
    "print(\"Saved model to disk\")"
   ]
  },
  {
   "cell_type": "code",
   "execution_count": null,
   "id": "3b6a1018",
   "metadata": {},
   "outputs": [],
   "source": []
  }
 ],
 "metadata": {
  "kernelspec": {
   "display_name": "Python 3",
   "language": "python",
   "name": "python3"
  },
  "language_info": {
   "codemirror_mode": {
    "name": "ipython",
    "version": 3
   },
   "file_extension": ".py",
   "mimetype": "text/x-python",
   "name": "python",
   "nbconvert_exporter": "python",
   "pygments_lexer": "ipython3",
   "version": "3.8.8"
  }
 },
 "nbformat": 4,
 "nbformat_minor": 5
}
