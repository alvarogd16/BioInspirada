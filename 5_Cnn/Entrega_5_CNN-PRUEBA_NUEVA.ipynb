{
 "cells": [
  {
   "cell_type": "markdown",
   "metadata": {},
   "source": [
    "# Entrega 5 CNN\n",
    "\n",
    "Primero vamos a comprobar que tenemos GPU disponible"
   ]
  },
  {
   "cell_type": "code",
   "execution_count": 1,
   "metadata": {},
   "outputs": [
    {
     "name": "stdout",
     "output_type": "stream",
     "text": [
      "[name: \"/device:CPU:0\"\n",
      "device_type: \"CPU\"\n",
      "memory_limit: 268435456\n",
      "locality {\n",
      "}\n",
      "incarnation: 12776298569041526338\n",
      "xla_global_id: -1\n",
      "]\n"
     ]
    }
   ],
   "source": [
    "from tensorflow.python.client import device_lib\n",
    "print(device_lib.list_local_devices())"
   ]
  },
  {
   "cell_type": "markdown",
   "metadata": {},
   "source": [
    "Ahora vamos a cargar el dataset, en esta caso CIFAR10. Este contiene 50000 imágenes a color de 32x32 para el entrenamiento y 10000 para el test, divididas en 10 categorias."
   ]
  },
  {
   "cell_type": "code",
   "execution_count": 2,
   "metadata": {},
   "outputs": [
    {
     "name": "stdout",
     "output_type": "stream",
     "text": [
      "(50000, 32, 32, 3)\n",
      "(10000, 32, 32, 3)\n",
      "(50000, 1)\n",
      "(10000, 1)\n"
     ]
    }
   ],
   "source": [
    "import tensorflow.keras\n",
    "from tensorflow.keras.datasets import cifar10\n",
    "\n",
    "(x_train, y_train), (x_test, y_test) = cifar10.load_data()\n",
    "\n",
    "print(x_train.shape)\n",
    "print(x_test.shape)\n",
    "print(y_train.shape)\n",
    "print(y_test.shape)"
   ]
  },
  {
   "cell_type": "code",
   "execution_count": 3,
   "metadata": {},
   "outputs": [
    {
     "name": "stdout",
     "output_type": "stream",
     "text": [
      "truck\n"
     ]
    },
    {
     "data": {
      "image/png": "[encoded data removed]",
      "text/plain": [
       "<Figure size 432x288 with 1 Axes>"
      ]
     },
     "metadata": {
      "needs_background": "light"
     },
     "output_type": "display_data"
    }
   ],
   "source": [
    "import matplotlib.pyplot as plt\n",
    "\n",
    "# Creamos las categorias para poder interpretar los resultados\n",
    "class_names = ['airplane', 'automobile', 'bird', 'cat', 'deer',\n",
    "               'dog', 'frog', 'horse', 'ship', 'truck']\n",
    "\n",
    "plt.imshow(x_train[1])\n",
    "print(class_names[y_train[1][0]])"
   ]
  },
  {
   "cell_type": "markdown",
   "metadata": {},
   "source": [
    "Preparamos los datos"
   ]
  },
  {
   "cell_type": "code",
   "execution_count": 4,
   "metadata": {},
   "outputs": [],
   "source": [
    "from tensorflow.keras.utils import to_categorical\n",
    "from tensorflow.keras.preprocessing.image import ImageDataGenerator\n",
    "\n",
    "# Se normalizan las imagenes. Cada canal del pixel entre 0. y 1.\n",
    "# x_train = x_train.astype('float32') / 255\n",
    "# x_test = x_test.astype('float32') / 255\n",
    "\n",
    "# Creamos el One Hot para las clases\n",
    "y_train = to_categorical(y_train)\n",
    "y_test = to_categorical(y_test)\n",
    "\n",
    "\n",
    "\n",
    "datagen = ImageDataGenerator(\n",
    "    rescale=1./255,\n",
    "    rotation_range=20,\n",
    "    width_shift_range=0.2,\n",
    "    height_shift_range=0.2,\n",
    "    horizontal_flip=True,\n",
    "    validation_split=0.2)\n",
    "\n",
    "train_generator = datagen.flow(x_train, y_train, batch_size=32, subset='training')\n",
    "\n",
    "validation_generator = datagen.flow(x_train, y_train, batch_size=8, subset='validation')\n",
    "\n",
    "# fits the model on batches with real-time data augmentation:\n",
    "# model.fit(datagen.flow(x_train, y_train, batch_size=32,\n",
    "#          subset='training'),\n",
    "#          validation_data=datagen.flow(x_train, y_train,\n",
    "#          batch_size=8, subset='validation'),\n",
    "#          steps_per_epoch=len(x_train) / 32, epochs=epochs)\n"
   ]
  },
  {
   "cell_type": "markdown",
   "metadata": {},
   "source": [
    "Creamos el modelo"
   ]
  },
  {
   "cell_type": "code",
   "execution_count": 5,
   "metadata": {},
   "outputs": [
    {
     "name": "stderr",
     "output_type": "stream",
     "text": [
      "/home/danipeix/.local/lib/python3.8/site-packages/keras/optimizer_v2/gradient_descent.py:102: UserWarning: The `lr` argument is deprecated, use `learning_rate` instead.\n",
      "  super(SGD, self).__init__(name, **kwargs)\n"
     ]
    }
   ],
   "source": [
    "from tensorflow.keras import layers\n",
    "from tensorflow.keras import models\n",
    "from tensorflow.keras import losses\n",
    "from tensorflow.keras import optimizers\n",
    "\n",
    "model = models.Sequential()\n",
    "model.add(layers.Conv2D(32, (3, 3), activation='relu', kernel_initializer='he_uniform', padding='same', input_shape=(32, 32, 3)))\n",
    "model.add(layers.Conv2D(32, (3, 3), activation='relu', kernel_initializer='he_uniform', padding='same'))\n",
    "model.add(layers.MaxPooling2D((2, 2)))\n",
    "model.add(layers.Dropout(0.2))\n",
    "model.add(layers.Conv2D(64, (3, 3), activation='relu', kernel_initializer='he_uniform', padding='same'))\n",
    "model.add(layers.Conv2D(64, (3, 3), activation='relu', kernel_initializer='he_uniform', padding='same'))\n",
    "model.add(layers.MaxPooling2D((2, 2)))\n",
    "model.add(layers.Dropout(0.2))\n",
    "# model.add(layers.Conv2D(128, (3, 3), activation='relu', kernel_initializer='he_uniform', padding='same'))\n",
    "# model.add(layers.Conv2D(128, (3, 3), activation='relu', kernel_initializer='he_uniform', padding='same'))\n",
    "# model.add(layers.MaxPooling2D((2, 2)))\n",
    "# model.add(layers.Dropout(0.2))\n",
    "model.add(layers.Flatten())\n",
    "model.add(layers.Dense(64, activation='relu', kernel_initializer='he_uniform'))\n",
    "model.add(layers.Dropout(0.2))\n",
    "model.add(layers.Dense(10, activation='softmax'))\n",
    "opt = optimizers.SGD(lr=0.001, momentum=0.9)\n",
    "model.compile(optimizer=opt, loss='categorical_crossentropy', metrics=['accuracy'])\n"
   ]
  },
  {
   "cell_type": "markdown",
   "metadata": {},
   "source": [
    "Entrenamos el modelo"
   ]
  },
  {
   "cell_type": "code",
   "execution_count": 6,
   "metadata": {},
   "outputs": [
    {
     "name": "stdout",
     "output_type": "stream",
     "text": [
      "Epoch 1/100\n",
      "1250/1250 [==============================] - 77s 62ms/step - loss: 2.0448 - accuracy: 0.2402 - val_loss: 1.8122 - val_accuracy: 0.3373\n",
      "Epoch 2/100\n",
      "1250/1250 [==============================] - 77s 61ms/step - loss: 1.8003 - accuracy: 0.3383 - val_loss: 1.6581 - val_accuracy: 0.3840\n",
      "Epoch 3/100\n",
      "1250/1250 [==============================] - 76s 61ms/step - loss: 1.6818 - accuracy: 0.3860 - val_loss: 1.5629 - val_accuracy: 0.4262\n",
      "Epoch 4/100\n",
      "1250/1250 [==============================] - 77s 61ms/step - loss: 1.6084 - accuracy: 0.4100 - val_loss: 1.5070 - val_accuracy: 0.4546\n",
      "Epoch 5/100\n",
      "1250/1250 [==============================] - 76s 61ms/step - loss: 1.5560 - accuracy: 0.4310 - val_loss: 1.4708 - val_accuracy: 0.4678\n",
      "Epoch 6/100\n",
      "1250/1250 [==============================] - 77s 61ms/step - loss: 1.5147 - accuracy: 0.4479 - val_loss: 1.4048 - val_accuracy: 0.4928\n",
      "Epoch 7/100\n",
      "1250/1250 [==============================] - 77s 62ms/step - loss: 1.4682 - accuracy: 0.4641 - val_loss: 1.3888 - val_accuracy: 0.4935\n",
      "Epoch 8/100\n",
      "1250/1250 [==============================] - 77s 61ms/step - loss: 1.4375 - accuracy: 0.4791 - val_loss: 1.3541 - val_accuracy: 0.5136\n",
      "Epoch 9/100\n",
      "1250/1250 [==============================] - 77s 61ms/step - loss: 1.4008 - accuracy: 0.4964 - val_loss: 1.3303 - val_accuracy: 0.5259\n",
      "Epoch 10/100\n",
      "1250/1250 [==============================] - 77s 61ms/step - loss: 1.3613 - accuracy: 0.5070 - val_loss: 1.2423 - val_accuracy: 0.5513\n",
      "Epoch 11/100\n",
      "1250/1250 [==============================] - 77s 61ms/step - loss: 1.3410 - accuracy: 0.5183 - val_loss: 1.2585 - val_accuracy: 0.5397\n",
      "Epoch 12/100\n",
      "1250/1250 [==============================] - 76s 61ms/step - loss: 1.3103 - accuracy: 0.5264 - val_loss: 1.2487 - val_accuracy: 0.5468\n",
      "Epoch 13/100\n",
      "1250/1250 [==============================] - 77s 61ms/step - loss: 1.2862 - accuracy: 0.5367 - val_loss: 1.1933 - val_accuracy: 0.5669\n",
      "Epoch 14/100\n",
      "1250/1250 [==============================] - 77s 61ms/step - loss: 1.2589 - accuracy: 0.5451 - val_loss: 1.1708 - val_accuracy: 0.5746\n",
      "Epoch 15/100\n",
      "1250/1250 [==============================] - 77s 61ms/step - loss: 1.2412 - accuracy: 0.5552 - val_loss: 1.1428 - val_accuracy: 0.5902\n",
      "Epoch 16/100\n",
      "1250/1250 [==============================] - 76s 61ms/step - loss: 1.2283 - accuracy: 0.5569 - val_loss: 1.1684 - val_accuracy: 0.5778\n",
      "Epoch 17/100\n",
      "1250/1250 [==============================] - 77s 61ms/step - loss: 1.2076 - accuracy: 0.5673 - val_loss: 1.1757 - val_accuracy: 0.5755\n",
      "Epoch 18/100\n",
      "1250/1250 [==============================] - 77s 61ms/step - loss: 1.1974 - accuracy: 0.5707 - val_loss: 1.1149 - val_accuracy: 0.6052\n",
      "Epoch 19/100\n",
      "1250/1250 [==============================] - 77s 61ms/step - loss: 1.1810 - accuracy: 0.5770 - val_loss: 1.0601 - val_accuracy: 0.6183\n",
      "Epoch 20/100\n",
      "1250/1250 [==============================] - 76s 61ms/step - loss: 1.1626 - accuracy: 0.5829 - val_loss: 1.0627 - val_accuracy: 0.6167\n",
      "Epoch 21/100\n",
      "1250/1250 [==============================] - 76s 61ms/step - loss: 1.1505 - accuracy: 0.5875 - val_loss: 1.0644 - val_accuracy: 0.6186\n",
      "Epoch 22/100\n",
      "1250/1250 [==============================] - 76s 61ms/step - loss: 1.1332 - accuracy: 0.5931 - val_loss: 1.0591 - val_accuracy: 0.6214\n",
      "Epoch 23/100\n",
      "1250/1250 [==============================] - 77s 61ms/step - loss: 1.1219 - accuracy: 0.5995 - val_loss: 1.0371 - val_accuracy: 0.6280\n",
      "Epoch 24/100\n",
      "1250/1250 [==============================] - 76s 61ms/step - loss: 1.1052 - accuracy: 0.6066 - val_loss: 1.0586 - val_accuracy: 0.6254\n",
      "Epoch 25/100\n",
      "1250/1250 [==============================] - 76s 61ms/step - loss: 1.0987 - accuracy: 0.6069 - val_loss: 1.0117 - val_accuracy: 0.6364\n",
      "Epoch 26/100\n",
      "1250/1250 [==============================] - 76s 61ms/step - loss: 1.0947 - accuracy: 0.6091 - val_loss: 1.0179 - val_accuracy: 0.6399\n",
      "Epoch 27/100\n",
      "1250/1250 [==============================] - 76s 61ms/step - loss: 1.0803 - accuracy: 0.6147 - val_loss: 0.9938 - val_accuracy: 0.6463\n",
      "Epoch 28/100\n",
      "1250/1250 [==============================] - 76s 61ms/step - loss: 1.0733 - accuracy: 0.6175 - val_loss: 0.9839 - val_accuracy: 0.6435\n",
      "Epoch 29/100\n",
      "1250/1250 [==============================] - 76s 61ms/step - loss: 1.0578 - accuracy: 0.6228 - val_loss: 0.9803 - val_accuracy: 0.6532\n",
      "Epoch 30/100\n",
      "1250/1250 [==============================] - 76s 61ms/step - loss: 1.0471 - accuracy: 0.6274 - val_loss: 0.9460 - val_accuracy: 0.6645\n",
      "Epoch 31/100\n",
      "1250/1250 [==============================] - 76s 61ms/step - loss: 1.0395 - accuracy: 0.6309 - val_loss: 0.9470 - val_accuracy: 0.6659\n",
      "Epoch 32/100\n",
      "1250/1250 [==============================] - 76s 61ms/step - loss: 1.0292 - accuracy: 0.6326 - val_loss: 0.9375 - val_accuracy: 0.6634\n",
      "Epoch 33/100\n",
      "1250/1250 [==============================] - 76s 61ms/step - loss: 1.0186 - accuracy: 0.6370 - val_loss: 0.9498 - val_accuracy: 0.6596\n",
      "Epoch 34/100\n",
      "1250/1250 [==============================] - 76s 61ms/step - loss: 1.0140 - accuracy: 0.6384 - val_loss: 0.9048 - val_accuracy: 0.6769\n",
      "Epoch 35/100\n",
      "1250/1250 [==============================] - 76s 61ms/step - loss: 1.0013 - accuracy: 0.6440 - val_loss: 0.8972 - val_accuracy: 0.6810\n",
      "Epoch 36/100\n",
      "1250/1250 [==============================] - 77s 61ms/step - loss: 0.9953 - accuracy: 0.6462 - val_loss: 0.9008 - val_accuracy: 0.6814\n",
      "Epoch 37/100\n",
      "1250/1250 [==============================] - 77s 62ms/step - loss: 0.9901 - accuracy: 0.6494 - val_loss: 0.8923 - val_accuracy: 0.6901\n",
      "Epoch 38/100\n",
      "1250/1250 [==============================] - 77s 62ms/step - loss: 0.9845 - accuracy: 0.6506 - val_loss: 0.8978 - val_accuracy: 0.6817\n",
      "Epoch 39/100\n",
      "1250/1250 [==============================] - 77s 62ms/step - loss: 0.9750 - accuracy: 0.6541 - val_loss: 0.8820 - val_accuracy: 0.6859\n",
      "Epoch 40/100\n",
      "1250/1250 [==============================] - 77s 62ms/step - loss: 0.9690 - accuracy: 0.6611 - val_loss: 0.8665 - val_accuracy: 0.6897\n",
      "Epoch 41/100\n",
      "1250/1250 [==============================] - 78s 63ms/step - loss: 0.9642 - accuracy: 0.6578 - val_loss: 0.8738 - val_accuracy: 0.6914\n",
      "Epoch 42/100\n",
      "1250/1250 [==============================] - 77s 62ms/step - loss: 0.9543 - accuracy: 0.6634 - val_loss: 0.8903 - val_accuracy: 0.6856\n",
      "Epoch 43/100\n",
      "1250/1250 [==============================] - 77s 62ms/step - loss: 0.9483 - accuracy: 0.6660 - val_loss: 0.8535 - val_accuracy: 0.6961\n",
      "Epoch 44/100\n",
      "1250/1250 [==============================] - 77s 62ms/step - loss: 0.9445 - accuracy: 0.6668 - val_loss: 0.8953 - val_accuracy: 0.6771\n",
      "Epoch 45/100\n",
      "1250/1250 [==============================] - 79s 63ms/step - loss: 0.9339 - accuracy: 0.6676 - val_loss: 0.8371 - val_accuracy: 0.7078\n",
      "Epoch 46/100\n",
      "1250/1250 [==============================] - 77s 62ms/step - loss: 0.9262 - accuracy: 0.6735 - val_loss: 0.8319 - val_accuracy: 0.7041\n",
      "Epoch 47/100\n",
      "1250/1250 [==============================] - 83s 67ms/step - loss: 0.9249 - accuracy: 0.6715 - val_loss: 0.8286 - val_accuracy: 0.7086\n",
      "Epoch 48/100\n",
      "1250/1250 [==============================] - 82s 66ms/step - loss: 0.9201 - accuracy: 0.6763 - val_loss: 0.8508 - val_accuracy: 0.6980\n",
      "Epoch 49/100\n",
      "1250/1250 [==============================] - 82s 66ms/step - loss: 0.9175 - accuracy: 0.6783 - val_loss: 0.8168 - val_accuracy: 0.7130\n",
      "Epoch 50/100\n",
      "1250/1250 [==============================] - 76s 60ms/step - loss: 0.9086 - accuracy: 0.6783 - val_loss: 0.8309 - val_accuracy: 0.7021\n",
      "Epoch 51/100\n",
      "1250/1250 [==============================] - 78s 62ms/step - loss: 0.9030 - accuracy: 0.6792 - val_loss: 0.8530 - val_accuracy: 0.7040\n",
      "Epoch 52/100\n",
      "1250/1250 [==============================] - 77s 62ms/step - loss: 0.9021 - accuracy: 0.6823 - val_loss: 0.8126 - val_accuracy: 0.7085\n",
      "Epoch 53/100\n",
      "1250/1250 [==============================] - 78s 62ms/step - loss: 0.8918 - accuracy: 0.6822 - val_loss: 0.8141 - val_accuracy: 0.7189\n",
      "Epoch 54/100\n",
      "1250/1250 [==============================] - 77s 62ms/step - loss: 0.8944 - accuracy: 0.6874 - val_loss: 0.8402 - val_accuracy: 0.7045\n",
      "Epoch 55/100\n",
      "1250/1250 [==============================] - 77s 62ms/step - loss: 0.8888 - accuracy: 0.6893 - val_loss: 0.7902 - val_accuracy: 0.7222\n",
      "Epoch 56/100\n"
     ]
    },
    {
     "name": "stdout",
     "output_type": "stream",
     "text": [
      "1250/1250 [==============================] - 77s 61ms/step - loss: 0.8789 - accuracy: 0.6919 - val_loss: 0.8047 - val_accuracy: 0.7196\n",
      "Epoch 57/100\n",
      "1250/1250 [==============================] - 76s 61ms/step - loss: 0.8808 - accuracy: 0.6895 - val_loss: 0.7993 - val_accuracy: 0.7211\n",
      "Epoch 58/100\n",
      "1250/1250 [==============================] - 76s 61ms/step - loss: 0.8752 - accuracy: 0.6927 - val_loss: 0.8035 - val_accuracy: 0.7108\n",
      "Epoch 59/100\n",
      "1250/1250 [==============================] - 77s 61ms/step - loss: 0.8704 - accuracy: 0.6947 - val_loss: 0.7893 - val_accuracy: 0.7244\n",
      "Epoch 60/100\n",
      "1250/1250 [==============================] - 77s 61ms/step - loss: 0.8697 - accuracy: 0.6939 - val_loss: 0.8025 - val_accuracy: 0.7211\n",
      "Epoch 61/100\n",
      "1250/1250 [==============================] - 77s 61ms/step - loss: 0.8659 - accuracy: 0.6956 - val_loss: 0.8233 - val_accuracy: 0.7095\n",
      "Epoch 62/100\n",
      "1250/1250 [==============================] - 77s 61ms/step - loss: 0.8535 - accuracy: 0.6967 - val_loss: 0.8003 - val_accuracy: 0.7190\n",
      "Epoch 63/100\n",
      "1250/1250 [==============================] - 77s 61ms/step - loss: 0.8535 - accuracy: 0.6998 - val_loss: 0.7666 - val_accuracy: 0.7330\n",
      "Epoch 64/100\n",
      "1250/1250 [==============================] - 77s 61ms/step - loss: 0.8521 - accuracy: 0.7018 - val_loss: 0.7672 - val_accuracy: 0.7305\n",
      "Epoch 65/100\n",
      "1250/1250 [==============================] - 77s 61ms/step - loss: 0.8398 - accuracy: 0.7014 - val_loss: 0.7902 - val_accuracy: 0.7162\n",
      "Epoch 66/100\n",
      "1250/1250 [==============================] - 77s 61ms/step - loss: 0.8490 - accuracy: 0.7023 - val_loss: 0.7543 - val_accuracy: 0.7371\n",
      "Epoch 67/100\n",
      "1250/1250 [==============================] - 77s 61ms/step - loss: 0.8432 - accuracy: 0.7041 - val_loss: 0.7371 - val_accuracy: 0.7413\n",
      "Epoch 68/100\n",
      "1250/1250 [==============================] - 77s 61ms/step - loss: 0.8371 - accuracy: 0.7066 - val_loss: 0.7690 - val_accuracy: 0.7313\n",
      "Epoch 69/100\n",
      "1250/1250 [==============================] - 78s 62ms/step - loss: 0.8340 - accuracy: 0.7061 - val_loss: 0.7508 - val_accuracy: 0.7338\n",
      "Epoch 70/100\n",
      "1250/1250 [==============================] - 77s 62ms/step - loss: 0.8224 - accuracy: 0.7126 - val_loss: 0.7529 - val_accuracy: 0.7390\n",
      "Epoch 71/100\n",
      "1250/1250 [==============================] - 77s 62ms/step - loss: 0.8250 - accuracy: 0.7108 - val_loss: 0.7799 - val_accuracy: 0.7215\n",
      "Epoch 72/100\n",
      "1250/1250 [==============================] - 78s 62ms/step - loss: 0.8182 - accuracy: 0.7128 - val_loss: 0.7437 - val_accuracy: 0.7365\n",
      "Epoch 73/100\n",
      "1250/1250 [==============================] - 77s 62ms/step - loss: 0.8146 - accuracy: 0.7137 - val_loss: 0.7434 - val_accuracy: 0.7408\n",
      "Epoch 74/100\n",
      "1250/1250 [==============================] - 77s 62ms/step - loss: 0.8171 - accuracy: 0.7151 - val_loss: 0.7447 - val_accuracy: 0.7365\n",
      "Epoch 75/100\n",
      "1250/1250 [==============================] - 77s 61ms/step - loss: 0.8127 - accuracy: 0.7145 - val_loss: 0.7479 - val_accuracy: 0.7379\n",
      "Epoch 76/100\n",
      "1250/1250 [==============================] - 77s 62ms/step - loss: 0.8075 - accuracy: 0.7178 - val_loss: 0.7349 - val_accuracy: 0.7427\n",
      "Epoch 77/100\n",
      "1250/1250 [==============================] - 77s 62ms/step - loss: 0.8083 - accuracy: 0.7155 - val_loss: 0.7286 - val_accuracy: 0.7404\n",
      "Epoch 78/100\n",
      "1250/1250 [==============================] - 77s 61ms/step - loss: 0.8084 - accuracy: 0.7177 - val_loss: 0.7498 - val_accuracy: 0.7388\n",
      "Epoch 79/100\n",
      "1250/1250 [==============================] - 77s 61ms/step - loss: 0.7983 - accuracy: 0.7186 - val_loss: 0.7367 - val_accuracy: 0.7383\n",
      "Epoch 80/100\n",
      "1250/1250 [==============================] - 77s 62ms/step - loss: 0.7987 - accuracy: 0.7213 - val_loss: 0.7318 - val_accuracy: 0.7398\n",
      "Epoch 81/100\n",
      "1250/1250 [==============================] - 77s 62ms/step - loss: 0.7934 - accuracy: 0.7212 - val_loss: 0.7213 - val_accuracy: 0.7446\n",
      "Epoch 82/100\n",
      "1250/1250 [==============================] - 77s 62ms/step - loss: 0.7937 - accuracy: 0.7224 - val_loss: 0.7384 - val_accuracy: 0.7431\n",
      "Epoch 83/100\n",
      "1250/1250 [==============================] - 77s 62ms/step - loss: 0.7866 - accuracy: 0.7236 - val_loss: 0.7417 - val_accuracy: 0.7392\n",
      "Epoch 84/100\n",
      "1250/1250 [==============================] - 77s 62ms/step - loss: 0.7901 - accuracy: 0.7238 - val_loss: 0.7180 - val_accuracy: 0.7443\n",
      "Epoch 85/100\n",
      "1250/1250 [==============================] - 77s 62ms/step - loss: 0.7837 - accuracy: 0.7264 - val_loss: 0.7201 - val_accuracy: 0.7508\n",
      "Epoch 86/100\n",
      "1250/1250 [==============================] - 77s 62ms/step - loss: 0.7770 - accuracy: 0.7269 - val_loss: 0.7180 - val_accuracy: 0.7465\n",
      "Epoch 87/100\n",
      "1250/1250 [==============================] - 77s 62ms/step - loss: 0.7807 - accuracy: 0.7267 - val_loss: 0.7001 - val_accuracy: 0.7501\n",
      "Epoch 88/100\n",
      "1250/1250 [==============================] - 77s 62ms/step - loss: 0.7787 - accuracy: 0.7279 - val_loss: 0.7021 - val_accuracy: 0.7506\n",
      "Epoch 89/100\n",
      "1250/1250 [==============================] - 77s 62ms/step - loss: 0.7787 - accuracy: 0.7252 - val_loss: 0.7650 - val_accuracy: 0.7293\n",
      "Epoch 90/100\n",
      "1250/1250 [==============================] - 77s 62ms/step - loss: 0.7713 - accuracy: 0.7285 - val_loss: 0.7130 - val_accuracy: 0.7522\n",
      "Epoch 91/100\n",
      "1250/1250 [==============================] - 77s 62ms/step - loss: 0.7685 - accuracy: 0.7303 - val_loss: 0.6951 - val_accuracy: 0.7566\n",
      "Epoch 92/100\n",
      "1250/1250 [==============================] - 77s 62ms/step - loss: 0.7713 - accuracy: 0.7315 - val_loss: 0.7002 - val_accuracy: 0.7612\n",
      "Epoch 93/100\n",
      "1250/1250 [==============================] - 77s 62ms/step - loss: 0.7666 - accuracy: 0.7319 - val_loss: 0.7002 - val_accuracy: 0.7563\n",
      "Epoch 94/100\n",
      "1250/1250 [==============================] - 77s 62ms/step - loss: 0.7678 - accuracy: 0.7315 - val_loss: 0.6953 - val_accuracy: 0.7574\n",
      "Epoch 95/100\n",
      "1250/1250 [==============================] - 77s 62ms/step - loss: 0.7632 - accuracy: 0.7318 - val_loss: 0.6924 - val_accuracy: 0.7576\n",
      "Epoch 96/100\n",
      "1250/1250 [==============================] - 78s 62ms/step - loss: 0.7594 - accuracy: 0.7347 - val_loss: 0.6892 - val_accuracy: 0.7608\n",
      "Epoch 97/100\n",
      "1250/1250 [==============================] - 77s 62ms/step - loss: 0.7560 - accuracy: 0.7356 - val_loss: 0.7095 - val_accuracy: 0.7509\n",
      "Epoch 98/100\n",
      "1250/1250 [==============================] - 77s 62ms/step - loss: 0.7555 - accuracy: 0.7355 - val_loss: 0.6870 - val_accuracy: 0.7613\n",
      "Epoch 99/100\n",
      "1250/1250 [==============================] - 77s 62ms/step - loss: 0.7506 - accuracy: 0.7351 - val_loss: 0.6964 - val_accuracy: 0.7560\n",
      "Epoch 100/100\n",
      "1250/1250 [==============================] - 77s 62ms/step - loss: 0.7548 - accuracy: 0.7377 - val_loss: 0.7013 - val_accuracy: 0.7529\n"
     ]
    }
   ],
   "source": [
    "batch_size = 64\n",
    "num_epoch = 100\n",
    "\n",
    "model_log = model.fit(train_generator,\n",
    "          epochs=num_epoch,\n",
    "          verbose=1,\n",
    "          validation_data=validation_generator)#,\n",
    "          #steps_per_epoch=len(x_train) / batch_size)"
   ]
  },
  {
   "cell_type": "code",
   "execution_count": 7,
   "metadata": {},
   "outputs": [
    {
     "data": {
      "image/png": "[encoded data removed]",
      "text/plain": [
       "<Figure size 432x288 with 2 Axes>"
      ]
     },
     "metadata": {
      "needs_background": "light"
     },
     "output_type": "display_data"
    }
   ],
   "source": [
    "import matplotlib.pyplot as plt\n",
    "\n",
    "fig = plt.figure()\n",
    "plt.subplot(2,1,1)\n",
    "plt.plot(model_log.history['accuracy'])\n",
    "plt.plot(model_log.history['val_accuracy'])\n",
    "plt.title('model accuracy')\n",
    "plt.ylabel('accuracy')\n",
    "plt.xlabel('epoch')\n",
    "plt.legend(['train', 'test'], loc='lower right')\n",
    "plt.subplot(2,1,2)\n",
    "plt.plot(model_log.history['loss'])\n",
    "plt.plot(model_log.history['val_loss'])\n",
    "plt.title('model loss')\n",
    "plt.ylabel('loss')\n",
    "plt.xlabel('epoch')\n",
    "plt.legend(['train', 'test'], loc='upper right')\n",
    "plt.tight_layout()"
   ]
  },
  {
   "cell_type": "markdown",
   "metadata": {},
   "source": [
    "Resultados:\n",
    "\n",
    "    - epochs 250, batch_size 10 -> loss: 1.2901 - accuracy: 0.5482 - val_loss: 1.3121 - val_accuracy: 0.5358 (~1 hora)\n",
    "    \n",
    "    - (Con los pesos anteriores) epochs 250, batch_size 40 -> loss: 1.1985 - accuracy: 0.5817 - val_loss: 1.2194 - val_accuracy: 0.5712 (~20 min)"
   ]
  },
  {
   "cell_type": "code",
   "execution_count": 8,
   "metadata": {},
   "outputs": [
    {
     "name": "stdout",
     "output_type": "stream",
     "text": [
      "Saved model to disk\n"
     ]
    }
   ],
   "source": [
    "#Save the model\n",
    "# serialize model to JSON\n",
    "model_digit_json = model.to_json()\n",
    "with open(\"modelCNN1_digit.json\", \"w\") as json_file:\n",
    "    json_file.write(model_digit_json)\n",
    "# serialize weights to HDF5\n",
    "model.save_weights(\"modelCNN1_digit.h5\")\n",
    "print(\"Saved model to disk\")"
   ]
  },
  {
   "cell_type": "code",
   "execution_count": null,
   "metadata": {},
   "outputs": [],
   "source": []
  }
 ],
 "metadata": {
  "kernelspec": {
   "display_name": "Python 3",
   "language": "python",
   "name": "python3"
  },
  "language_info": {
   "codemirror_mode": {
    "name": "ipython",
    "version": 3
   },
   "file_extension": ".py",
   "mimetype": "text/x-python",
   "name": "python",
   "nbconvert_exporter": "python",
   "pygments_lexer": "ipython3",
   "version": "3.8.10"
  }
 },
 "nbformat": 4,
 "nbformat_minor": 5
}
