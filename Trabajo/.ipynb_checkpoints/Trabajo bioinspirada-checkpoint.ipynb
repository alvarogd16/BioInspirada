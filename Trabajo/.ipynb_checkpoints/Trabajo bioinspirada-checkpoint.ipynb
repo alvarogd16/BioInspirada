{
 "cells": [
  {
   "cell_type": "code",
   "execution_count": 1,
   "id": "f0925f24",
   "metadata": {},
   "outputs": [
    {
     "name": "stdout",
     "output_type": "stream",
     "text": [
      "[name: \"/device:CPU:0\"\n",
      "device_type: \"CPU\"\n",
      "memory_limit: 268435456\n",
      "locality {\n",
      "}\n",
      "incarnation: 18379943130168174454\n",
      ", name: \"/device:GPU:0\"\n",
      "device_type: \"GPU\"\n",
      "memory_limit: 3365273600\n",
      "locality {\n",
      "  bus_id: 1\n",
      "  links {\n",
      "  }\n",
      "}\n",
      "incarnation: 13005363914602291398\n",
      "physical_device_desc: \"device: 0, name: NVIDIA GeForce GTX 1050, pci bus id: 0000:01:00.0, compute capability: 6.1\"\n",
      "]\n"
     ]
    }
   ],
   "source": [
    "from tensorflow.python.client import device_lib\n",
    "print(device_lib.list_local_devices())"
   ]
  },
  {
   "cell_type": "code",
   "execution_count": 6,
   "id": "0312e6ef",
   "metadata": {},
   "outputs": [
    {
     "name": "stdout",
     "output_type": "stream",
     "text": [
      "Model: \"my_model_3\"\n",
      "_________________________________________________________________\n",
      "Layer (type)                 Output Shape              Param #   \n",
      "=================================================================\n",
      "dense_3 (Dense)              multiple                  16        \n",
      "=================================================================\n",
      "Total params: 16\n",
      "Trainable params: 16\n",
      "Non-trainable params: 0\n",
      "_________________________________________________________________\n"
     ]
    }
   ],
   "source": [
    "from tensorflow.keras import Model\n",
    "from tensorflow.keras import layers\n",
    "from tensorflow.keras import optimizers\n",
    "from tensorflow import nn\n",
    "\n",
    "\n",
    "class ChannelLayer(Model):\n",
    "    def __init__(self):\n",
    "        super().__init__()\n",
    "        # TODO\n",
    "        \n",
    "    def call(self, inputs):\n",
    "        # TODO\n",
    "        return inputs\n",
    "\n",
    "class SpatialLayer(Model):\n",
    "    def __init__(self):\n",
    "        super().__init__()\n",
    "        # TODO\n",
    "        \n",
    "    def call(self, inputs):\n",
    "        # TODO\n",
    "        return inputs\n",
    "\n",
    "class CBAM(Model):\n",
    "    def __init__(self, gate_channels, spatial=True, channel=True):\n",
    "        super().__init__()\n",
    "        self.spatial = spatial\n",
    "        self.channel = channel\n",
    "        if self.channel:\n",
    "            self.layer_channel = ChannelLayer()\n",
    "        if self.spatial:\n",
    "            self.layer_spatial = SpatialLayer()\n",
    "    \n",
    "    def call(self, inputs):\n",
    "        if self.channel:\n",
    "            inputs = self.layer_channel(inputs)\n",
    "        if self.spatial:\n",
    "            inputs = self.layer_spatial(inputs)\n",
    "        return inputs\n",
    "\n",
    "class Convolutional(Model):\n",
    "    def __init__(self, input_size):\n",
    "        super().__init__()\n",
    "        # TODO\n",
    "        \n",
    "    def call(self, inputs):\n",
    "        # TODO\n",
    "        return\n",
    "\n",
    "class MyModel(Model):\n",
    "    def __init__(self, spatial=True, channel=True):\n",
    "        super().__init__()\n",
    "        \n",
    "        # Elegimos si queremos que se ejecuten los mecanismos atencionales\n",
    "        self.att = channel or spatial\n",
    "        if self.att:\n",
    "            self.layer_att = CBAM(spatial=spatial, channel=channel)\n",
    "        self.layer_conv = Convolutional()\n",
    "        self.layer_lineal = Lineal()\n",
    "        \n",
    "    def call(self, inputs):\n",
    "        if self.att:\n",
    "            inputs = self.layer_att(inputs)\n",
    "        inputs = self.layer_conv(inputs)\n",
    "        return self.layer_linal(inputs)\n",
    "    \n",
    "model = MyModel()\n",
    "\n",
    "opt = optimizers.SGD(lr=0.001, momentum=0.9)\n",
    "model.compile(optimizer=opt, loss='categorical_crossentropy', metrics=['accuracy'])\n",
    "\n",
    "model.build((32, 32, 3))\n",
    "model.summary()"
   ]
  },
  {
   "cell_type": "code",
   "execution_count": null,
   "id": "b546d36b",
   "metadata": {},
   "outputs": [],
   "source": []
  }
 ],
 "metadata": {
  "kernelspec": {
   "display_name": "Python 3",
   "language": "python",
   "name": "python3"
  },
  "language_info": {
   "codemirror_mode": {
    "name": "ipython",
    "version": 3
   },
   "file_extension": ".py",
   "mimetype": "text/x-python",
   "name": "python",
   "nbconvert_exporter": "python",
   "pygments_lexer": "ipython3",
   "version": "3.8.8"
  }
 },
 "nbformat": 4,
 "nbformat_minor": 5
}
