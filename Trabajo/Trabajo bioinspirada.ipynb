{
 "cells": [
  {
   "cell_type": "code",
   "execution_count": 1,
   "metadata": {},
   "outputs": [
    {
     "name": "stdout",
     "output_type": "stream",
     "text": [
      "[name: \"/device:CPU:0\"\n",
      "device_type: \"CPU\"\n",
      "memory_limit: 268435456\n",
      "locality {\n",
      "}\n",
      "incarnation: 14862842283405597820\n",
      "xla_global_id: -1\n",
      "]\n"
     ]
    }
   ],
   "source": [
    "from tensorflow.python.client import device_lib\n",
    "print(device_lib.list_local_devices())"
   ]
  },
  {
   "cell_type": "code",
   "execution_count": 2,
   "metadata": {},
   "outputs": [],
   "source": [
    "from tensorflow.keras.datasets import boston_housing\n",
    "(X_train, y_train), (X_test, y_test) = boston_housing.load_data()"
   ]
  },
  {
   "cell_type": "code",
   "execution_count": 4,
   "metadata": {},
   "outputs": [
    {
     "ename": "TypeError",
     "evalue": "__init__() missing 1 required positional argument: 'gate_channels'",
     "output_type": "error",
     "traceback": [
      "\u001b[0;31m---------------------------------------------------------------------------\u001b[0m",
      "\u001b[0;31mTypeError\u001b[0m                                 Traceback (most recent call last)",
      "\u001b[0;32m<ipython-input-4-179a82230586>\u001b[0m in \u001b[0;36m<module>\u001b[0;34m\u001b[0m\n\u001b[1;32m     91\u001b[0m         \u001b[0;32mreturn\u001b[0m \u001b[0mself\u001b[0m\u001b[0;34m.\u001b[0m\u001b[0mlayer_linal\u001b[0m\u001b[0;34m(\u001b[0m\u001b[0minputs\u001b[0m\u001b[0;34m)\u001b[0m\u001b[0;34m\u001b[0m\u001b[0;34m\u001b[0m\u001b[0m\n\u001b[1;32m     92\u001b[0m \u001b[0;34m\u001b[0m\u001b[0m\n\u001b[0;32m---> 93\u001b[0;31m \u001b[0mmodel\u001b[0m \u001b[0;34m=\u001b[0m \u001b[0mMyModel\u001b[0m\u001b[0;34m(\u001b[0m\u001b[0;32mTrue\u001b[0m\u001b[0;34m,\u001b[0m \u001b[0;32mTrue\u001b[0m\u001b[0;34m)\u001b[0m\u001b[0;34m\u001b[0m\u001b[0;34m\u001b[0m\u001b[0m\n\u001b[0m\u001b[1;32m     94\u001b[0m \u001b[0;34m\u001b[0m\u001b[0m\n\u001b[1;32m     95\u001b[0m \u001b[0mopt\u001b[0m \u001b[0;34m=\u001b[0m \u001b[0moptimizers\u001b[0m\u001b[0;34m.\u001b[0m\u001b[0mSGD\u001b[0m\u001b[0;34m(\u001b[0m\u001b[0mlr\u001b[0m\u001b[0;34m=\u001b[0m\u001b[0;36m0.001\u001b[0m\u001b[0;34m,\u001b[0m \u001b[0mmomentum\u001b[0m\u001b[0;34m=\u001b[0m\u001b[0;36m0.9\u001b[0m\u001b[0;34m)\u001b[0m\u001b[0;34m\u001b[0m\u001b[0;34m\u001b[0m\u001b[0m\n",
      "\u001b[0;32m<ipython-input-4-179a82230586>\u001b[0m in \u001b[0;36m__init__\u001b[0;34m(self, spatial, channel)\u001b[0m\n\u001b[1;32m     81\u001b[0m         \u001b[0mself\u001b[0m\u001b[0;34m.\u001b[0m\u001b[0matt\u001b[0m \u001b[0;34m=\u001b[0m \u001b[0mchannel\u001b[0m \u001b[0;32mor\u001b[0m \u001b[0mspatial\u001b[0m\u001b[0;34m\u001b[0m\u001b[0;34m\u001b[0m\u001b[0m\n\u001b[1;32m     82\u001b[0m         \u001b[0;32mif\u001b[0m \u001b[0mself\u001b[0m\u001b[0;34m.\u001b[0m\u001b[0matt\u001b[0m\u001b[0;34m:\u001b[0m\u001b[0;34m\u001b[0m\u001b[0;34m\u001b[0m\u001b[0m\n\u001b[0;32m---> 83\u001b[0;31m             \u001b[0mself\u001b[0m\u001b[0;34m.\u001b[0m\u001b[0mlayer_att\u001b[0m \u001b[0;34m=\u001b[0m \u001b[0mCBAM\u001b[0m\u001b[0;34m(\u001b[0m\u001b[0mspatial\u001b[0m\u001b[0;34m=\u001b[0m\u001b[0mspatial\u001b[0m\u001b[0;34m,\u001b[0m \u001b[0mchannel\u001b[0m\u001b[0;34m=\u001b[0m\u001b[0mchannel\u001b[0m\u001b[0;34m)\u001b[0m\u001b[0;34m\u001b[0m\u001b[0;34m\u001b[0m\u001b[0m\n\u001b[0m\u001b[1;32m     84\u001b[0m         \u001b[0mself\u001b[0m\u001b[0;34m.\u001b[0m\u001b[0mlayer_conv\u001b[0m \u001b[0;34m=\u001b[0m \u001b[0mConvolutional\u001b[0m\u001b[0;34m(\u001b[0m\u001b[0;34m)\u001b[0m\u001b[0;34m\u001b[0m\u001b[0;34m\u001b[0m\u001b[0m\n\u001b[1;32m     85\u001b[0m         \u001b[0mself\u001b[0m\u001b[0;34m.\u001b[0m\u001b[0mlayer_lineal\u001b[0m \u001b[0;34m=\u001b[0m \u001b[0mLineal\u001b[0m\u001b[0;34m(\u001b[0m\u001b[0;34m)\u001b[0m\u001b[0;34m\u001b[0m\u001b[0;34m\u001b[0m\u001b[0m\n",
      "\u001b[0;31mTypeError\u001b[0m: __init__() missing 1 required positional argument: 'gate_channels'"
     ]
    }
   ],
   "source": [
    "from tensorflow.keras import Model\n",
    "from tensorflow.keras import layers\n",
    "from tensorflow.keras import optimizers\n",
    "from tensorflow import nn\n",
    "\n",
    "\n",
    "class ChannelLayer(Model):\n",
    "    def __init__(self):\n",
    "        super().__init__()\n",
    "        super(ChannelLayer, self).__init__()\n",
    "        self.avg_pool = layers.AveragePooling2D(pool_size=(1,1))\n",
    "        self.max_pool = layers.MaxPooling2D(pool_size=(1, 1))\n",
    "        \n",
    "        # self.fc = nn.Sequential(nn.Conv2d(in_p, in_p // red, 1, bias=False), nn.ReLU(), nn.Conv2d(in_p // red, in_planes, 1, bias=False))\n",
    "        # self.sigmoid = nn.Sigmoid()\n",
    "        \n",
    "    def call(self, inputs):\n",
    "        # avg_out = self.fc(self.avg_pool(x))\n",
    "        # max_out = self.fc(self.max_pool(x))\n",
    "        # out = avg_out + max_out\n",
    "        # return self.sigmoid(out) * x\n",
    "        return inputs\n",
    "\n",
    "class SpatialLayer(Model):\n",
    "    def __init__(self):\n",
    "        super(SpatialLayer).__init__()\n",
    "        # kernel_size = 7\n",
    "        # self.compress = ChannelPool()\n",
    "        self.conspatialv1 = layers.Conv2D(1, (3,3), padding='same') # BasicConv(2, 1, kernel_size, stride=1, padding=(kernel_size-1) // 2, relu=False)\n",
    "        \n",
    "    def call(self, inputs):\n",
    "        # x_compress = self.compress(x)\n",
    "        # x_out = self.spatial(x_compress)\n",
    "        # scale = F.sigmoid(x_out) # broadcasting\n",
    "        # return x * scale\n",
    "        return inputs\n",
    "\n",
    "class CBAM(Model):\n",
    "    def __init__(self, gate_channels, spatial=True, channel=True):\n",
    "        super().__init__()\n",
    "        self.spatial = spatial\n",
    "        self.channel = channel\n",
    "        if self.channel:\n",
    "            self.layer_channel = ChannelLayer()\n",
    "        if self.spatial:\n",
    "            self.layer_spatial = SpatialLayer()\n",
    "    \n",
    "    def call(self, inputs):\n",
    "        if self.channel:\n",
    "            inputs = self.layer_channel(inputs)\n",
    "        if self.spatial:\n",
    "            inputs = self.layer_spatial(inputs)\n",
    "        return inputs\n",
    "\n",
    "class Convolutional(Model):\n",
    "    def __init__(self, input_size):\n",
    "        \"\"\"Falta ajustar los parmámetros de las capas convolucionales\"\"\"\n",
    "        super(Convolutional).__init__()                                   \n",
    "        self.conv1 = layers.Conv2D(1, (3,3), padding='same', activation='relu')   # nn.Conv2d(in_size, 6, 5)\n",
    "        self.pool = layers.MaxPooling2D(pool_size=(2, 2))\n",
    "        self.conv2 = layers.Conv2D(1, (3,3), padding='same', activation='relu')   # nn.Conv2d(6, 16, 5)\n",
    "        \n",
    "    def call(self, inputs):\n",
    "        x = self.conv1(inputs)\n",
    "        x = self.pool(x)\n",
    "        x = self.conv2(x)\n",
    "        x = self.pool(x)\n",
    "        return x\n",
    "\n",
    "class MyModel(Model):\n",
    "    def __init__(self, spatial=True, channel=True):\n",
    "        super().__init__()\n",
    "        \n",
    "        # Elegimos si queremos que se ejecuten los mecanismos atencionales\n",
    "        self.att = channel or spatial\n",
    "        if self.att:\n",
    "            self.layer_att = CBAM(spatial=spatial, channel=channel)\n",
    "        self.layer_conv = Convolutional()\n",
    "        self.layer_lineal = Lineal()\n",
    "        \n",
    "    def call(self, inputs):\n",
    "        if self.att:\n",
    "            inputs = self.layer_att(inputs)\n",
    "        inputs = self.layer_conv(inputs)\n",
    "        return self.layer_linal(inputs)\n",
    "    \n",
    "model = MyModel()\n",
    "\n",
    "opt = optimizers.SGD(lr=0.001, momentum=0.9)\n",
    "model.compile(optimizer=opt, loss='categorical_crossentropy', metrics=['accuracy'])\n",
    "\n",
    "model.build((32, 32, 3))\n",
    "model.summary()"
   ]
  },
  {
   "cell_type": "code",
   "execution_count": null,
   "metadata": {},
   "outputs": [],
   "source": []
  }
 ],
 "metadata": {
  "kernelspec": {
   "display_name": "Python 3",
   "language": "python",
   "name": "python3"
  },
  "language_info": {
   "codemirror_mode": {
    "name": "ipython",
    "version": 3
   },
   "file_extension": ".py",
   "mimetype": "text/x-python",
   "name": "python",
   "nbconvert_exporter": "python",
   "pygments_lexer": "ipython3",
   "version": "3.8.10"
  }
 },
 "nbformat": 4,
 "nbformat_minor": 5
}
